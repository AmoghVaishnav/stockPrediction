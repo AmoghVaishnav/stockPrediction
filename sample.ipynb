{
  "cells": [
    {
      "cell_type": "code",
      "execution_count": 1,
      "metadata": {
        "id": "ZXboFwcxL2TL"
      },
      "outputs": [],
      "source": [
        "import pandas_datareader as pdr\n",
        "import pandas as pd\n"
      ]
    },
    {
      "cell_type": "code",
      "execution_count": null,
      "metadata": {
        "id": "iszhLMaEL2TM",
        "outputId": "3b2cc021-25b2-4e28-a3b1-670e7859d70c"
      },
      "outputs": [
        {
          "ename": "NameError",
          "evalue": "name 'df' is not defined",
          "output_type": "error",
          "traceback": [
            "\u001b[1;31m---------------------------------------------------------------------------\u001b[0m",
            "\u001b[1;31mNameError\u001b[0m                                 Traceback (most recent call last)",
            "Cell \u001b[1;32mIn[10], line 2\u001b[0m\n\u001b[0;32m      1\u001b[0m key\u001b[38;5;241m=\u001b[39m\u001b[38;5;124m'\u001b[39m\u001b[38;5;124m2a380557aa931210bbc5213ef4bdad17e00b7d36\u001b[39m\u001b[38;5;124m'\u001b[39m\n\u001b[1;32m----> 2\u001b[0m df \u001b[38;5;241m=\u001b[39m pd\u001b[38;5;241m.\u001b[39mconcat([\u001b[43mdf\u001b[49m], axis\u001b[38;5;241m=\u001b[39m\u001b[38;5;241m1\u001b[39m)\n\u001b[0;32m      3\u001b[0m df\u001b[38;5;241m=\u001b[39mpdr\u001b[38;5;241m.\u001b[39mget_data_tiingo(\u001b[38;5;124m'\u001b[39m\u001b[38;5;124mAAPL\u001b[39m\u001b[38;5;124m'\u001b[39m,api_key\u001b[38;5;241m=\u001b[39mkey)\n",
            "\u001b[1;31mNameError\u001b[0m: name 'df' is not defined"
          ]
        }
      ],
      "source": [
        "key='2a380557aa931210bbc5213ef4bdad17e00b7d36'\n",
        "df=pdr.get_data_tiingo('AAPL',api_key=key)\n"
      ]
    },
    {
      "cell_type": "code",
      "execution_count": 2,
      "metadata": {
        "id": "Lv_-yantL2TN"
      },
      "outputs": [],
      "source": [
        "df=pd.read_csv('/content/AAPL.csv')"
      ]
    },
    {
      "cell_type": "code",
      "execution_count": 3,
      "metadata": {
        "id": "fguWP0HVL2TN",
        "outputId": "59ab7704-4594-4ae7-872f-aeead1d68cf8",
        "colab": {
          "base_uri": "https://localhost:8080/",
          "height": 206
        }
      },
      "outputs": [
        {
          "output_type": "execute_result",
          "data": {
            "text/plain": [
              "                        Date      Open      High       Low     Close  \\\n",
              "0  1980-12-12 00:00:00-05:00  0.099584  0.100017  0.099584  0.099584   \n",
              "1  1980-12-15 00:00:00-05:00  0.094821  0.094821  0.094388  0.094388   \n",
              "2  1980-12-16 00:00:00-05:00  0.087894  0.087894  0.087461  0.087461   \n",
              "3  1980-12-17 00:00:00-05:00  0.089625  0.090058  0.089625  0.089625   \n",
              "4  1980-12-18 00:00:00-05:00  0.092224  0.092657  0.092224  0.092224   \n",
              "\n",
              "      Volume  Dividends  Stock Splits  \n",
              "0  469033600        0.0           0.0  \n",
              "1  175884800        0.0           0.0  \n",
              "2  105728000        0.0           0.0  \n",
              "3   86441600        0.0           0.0  \n",
              "4   73449600        0.0           0.0  "
            ],
            "text/html": [
              "\n",
              "  <div id=\"df-7d432fb2-ea67-4618-990d-df33fcf35eff\" class=\"colab-df-container\">\n",
              "    <div>\n",
              "<style scoped>\n",
              "    .dataframe tbody tr th:only-of-type {\n",
              "        vertical-align: middle;\n",
              "    }\n",
              "\n",
              "    .dataframe tbody tr th {\n",
              "        vertical-align: top;\n",
              "    }\n",
              "\n",
              "    .dataframe thead th {\n",
              "        text-align: right;\n",
              "    }\n",
              "</style>\n",
              "<table border=\"1\" class=\"dataframe\">\n",
              "  <thead>\n",
              "    <tr style=\"text-align: right;\">\n",
              "      <th></th>\n",
              "      <th>Date</th>\n",
              "      <th>Open</th>\n",
              "      <th>High</th>\n",
              "      <th>Low</th>\n",
              "      <th>Close</th>\n",
              "      <th>Volume</th>\n",
              "      <th>Dividends</th>\n",
              "      <th>Stock Splits</th>\n",
              "    </tr>\n",
              "  </thead>\n",
              "  <tbody>\n",
              "    <tr>\n",
              "      <th>0</th>\n",
              "      <td>1980-12-12 00:00:00-05:00</td>\n",
              "      <td>0.099584</td>\n",
              "      <td>0.100017</td>\n",
              "      <td>0.099584</td>\n",
              "      <td>0.099584</td>\n",
              "      <td>469033600</td>\n",
              "      <td>0.0</td>\n",
              "      <td>0.0</td>\n",
              "    </tr>\n",
              "    <tr>\n",
              "      <th>1</th>\n",
              "      <td>1980-12-15 00:00:00-05:00</td>\n",
              "      <td>0.094821</td>\n",
              "      <td>0.094821</td>\n",
              "      <td>0.094388</td>\n",
              "      <td>0.094388</td>\n",
              "      <td>175884800</td>\n",
              "      <td>0.0</td>\n",
              "      <td>0.0</td>\n",
              "    </tr>\n",
              "    <tr>\n",
              "      <th>2</th>\n",
              "      <td>1980-12-16 00:00:00-05:00</td>\n",
              "      <td>0.087894</td>\n",
              "      <td>0.087894</td>\n",
              "      <td>0.087461</td>\n",
              "      <td>0.087461</td>\n",
              "      <td>105728000</td>\n",
              "      <td>0.0</td>\n",
              "      <td>0.0</td>\n",
              "    </tr>\n",
              "    <tr>\n",
              "      <th>3</th>\n",
              "      <td>1980-12-17 00:00:00-05:00</td>\n",
              "      <td>0.089625</td>\n",
              "      <td>0.090058</td>\n",
              "      <td>0.089625</td>\n",
              "      <td>0.089625</td>\n",
              "      <td>86441600</td>\n",
              "      <td>0.0</td>\n",
              "      <td>0.0</td>\n",
              "    </tr>\n",
              "    <tr>\n",
              "      <th>4</th>\n",
              "      <td>1980-12-18 00:00:00-05:00</td>\n",
              "      <td>0.092224</td>\n",
              "      <td>0.092657</td>\n",
              "      <td>0.092224</td>\n",
              "      <td>0.092224</td>\n",
              "      <td>73449600</td>\n",
              "      <td>0.0</td>\n",
              "      <td>0.0</td>\n",
              "    </tr>\n",
              "  </tbody>\n",
              "</table>\n",
              "</div>\n",
              "    <div class=\"colab-df-buttons\">\n",
              "\n",
              "  <div class=\"colab-df-container\">\n",
              "    <button class=\"colab-df-convert\" onclick=\"convertToInteractive('df-7d432fb2-ea67-4618-990d-df33fcf35eff')\"\n",
              "            title=\"Convert this dataframe to an interactive table.\"\n",
              "            style=\"display:none;\">\n",
              "\n",
              "  <svg xmlns=\"http://www.w3.org/2000/svg\" height=\"24px\" viewBox=\"0 -960 960 960\">\n",
              "    <path d=\"M120-120v-720h720v720H120Zm60-500h600v-160H180v160Zm220 220h160v-160H400v160Zm0 220h160v-160H400v160ZM180-400h160v-160H180v160Zm440 0h160v-160H620v160ZM180-180h160v-160H180v160Zm440 0h160v-160H620v160Z\"/>\n",
              "  </svg>\n",
              "    </button>\n",
              "\n",
              "  <style>\n",
              "    .colab-df-container {\n",
              "      display:flex;\n",
              "      gap: 12px;\n",
              "    }\n",
              "\n",
              "    .colab-df-convert {\n",
              "      background-color: #E8F0FE;\n",
              "      border: none;\n",
              "      border-radius: 50%;\n",
              "      cursor: pointer;\n",
              "      display: none;\n",
              "      fill: #1967D2;\n",
              "      height: 32px;\n",
              "      padding: 0 0 0 0;\n",
              "      width: 32px;\n",
              "    }\n",
              "\n",
              "    .colab-df-convert:hover {\n",
              "      background-color: #E2EBFA;\n",
              "      box-shadow: 0px 1px 2px rgba(60, 64, 67, 0.3), 0px 1px 3px 1px rgba(60, 64, 67, 0.15);\n",
              "      fill: #174EA6;\n",
              "    }\n",
              "\n",
              "    .colab-df-buttons div {\n",
              "      margin-bottom: 4px;\n",
              "    }\n",
              "\n",
              "    [theme=dark] .colab-df-convert {\n",
              "      background-color: #3B4455;\n",
              "      fill: #D2E3FC;\n",
              "    }\n",
              "\n",
              "    [theme=dark] .colab-df-convert:hover {\n",
              "      background-color: #434B5C;\n",
              "      box-shadow: 0px 1px 3px 1px rgba(0, 0, 0, 0.15);\n",
              "      filter: drop-shadow(0px 1px 2px rgba(0, 0, 0, 0.3));\n",
              "      fill: #FFFFFF;\n",
              "    }\n",
              "  </style>\n",
              "\n",
              "    <script>\n",
              "      const buttonEl =\n",
              "        document.querySelector('#df-7d432fb2-ea67-4618-990d-df33fcf35eff button.colab-df-convert');\n",
              "      buttonEl.style.display =\n",
              "        google.colab.kernel.accessAllowed ? 'block' : 'none';\n",
              "\n",
              "      async function convertToInteractive(key) {\n",
              "        const element = document.querySelector('#df-7d432fb2-ea67-4618-990d-df33fcf35eff');\n",
              "        const dataTable =\n",
              "          await google.colab.kernel.invokeFunction('convertToInteractive',\n",
              "                                                    [key], {});\n",
              "        if (!dataTable) return;\n",
              "\n",
              "        const docLinkHtml = 'Like what you see? Visit the ' +\n",
              "          '<a target=\"_blank\" href=https://colab.research.google.com/notebooks/data_table.ipynb>data table notebook</a>'\n",
              "          + ' to learn more about interactive tables.';\n",
              "        element.innerHTML = '';\n",
              "        dataTable['output_type'] = 'display_data';\n",
              "        await google.colab.output.renderOutput(dataTable, element);\n",
              "        const docLink = document.createElement('div');\n",
              "        docLink.innerHTML = docLinkHtml;\n",
              "        element.appendChild(docLink);\n",
              "      }\n",
              "    </script>\n",
              "  </div>\n",
              "\n",
              "\n",
              "<div id=\"df-7fbd204e-99d4-4b25-8434-453e054f8759\">\n",
              "  <button class=\"colab-df-quickchart\" onclick=\"quickchart('df-7fbd204e-99d4-4b25-8434-453e054f8759')\"\n",
              "            title=\"Suggest charts\"\n",
              "            style=\"display:none;\">\n",
              "\n",
              "<svg xmlns=\"http://www.w3.org/2000/svg\" height=\"24px\"viewBox=\"0 0 24 24\"\n",
              "     width=\"24px\">\n",
              "    <g>\n",
              "        <path d=\"M19 3H5c-1.1 0-2 .9-2 2v14c0 1.1.9 2 2 2h14c1.1 0 2-.9 2-2V5c0-1.1-.9-2-2-2zM9 17H7v-7h2v7zm4 0h-2V7h2v10zm4 0h-2v-4h2v4z\"/>\n",
              "    </g>\n",
              "</svg>\n",
              "  </button>\n",
              "\n",
              "<style>\n",
              "  .colab-df-quickchart {\n",
              "      --bg-color: #E8F0FE;\n",
              "      --fill-color: #1967D2;\n",
              "      --hover-bg-color: #E2EBFA;\n",
              "      --hover-fill-color: #174EA6;\n",
              "      --disabled-fill-color: #AAA;\n",
              "      --disabled-bg-color: #DDD;\n",
              "  }\n",
              "\n",
              "  [theme=dark] .colab-df-quickchart {\n",
              "      --bg-color: #3B4455;\n",
              "      --fill-color: #D2E3FC;\n",
              "      --hover-bg-color: #434B5C;\n",
              "      --hover-fill-color: #FFFFFF;\n",
              "      --disabled-bg-color: #3B4455;\n",
              "      --disabled-fill-color: #666;\n",
              "  }\n",
              "\n",
              "  .colab-df-quickchart {\n",
              "    background-color: var(--bg-color);\n",
              "    border: none;\n",
              "    border-radius: 50%;\n",
              "    cursor: pointer;\n",
              "    display: none;\n",
              "    fill: var(--fill-color);\n",
              "    height: 32px;\n",
              "    padding: 0;\n",
              "    width: 32px;\n",
              "  }\n",
              "\n",
              "  .colab-df-quickchart:hover {\n",
              "    background-color: var(--hover-bg-color);\n",
              "    box-shadow: 0 1px 2px rgba(60, 64, 67, 0.3), 0 1px 3px 1px rgba(60, 64, 67, 0.15);\n",
              "    fill: var(--button-hover-fill-color);\n",
              "  }\n",
              "\n",
              "  .colab-df-quickchart-complete:disabled,\n",
              "  .colab-df-quickchart-complete:disabled:hover {\n",
              "    background-color: var(--disabled-bg-color);\n",
              "    fill: var(--disabled-fill-color);\n",
              "    box-shadow: none;\n",
              "  }\n",
              "\n",
              "  .colab-df-spinner {\n",
              "    border: 2px solid var(--fill-color);\n",
              "    border-color: transparent;\n",
              "    border-bottom-color: var(--fill-color);\n",
              "    animation:\n",
              "      spin 1s steps(1) infinite;\n",
              "  }\n",
              "\n",
              "  @keyframes spin {\n",
              "    0% {\n",
              "      border-color: transparent;\n",
              "      border-bottom-color: var(--fill-color);\n",
              "      border-left-color: var(--fill-color);\n",
              "    }\n",
              "    20% {\n",
              "      border-color: transparent;\n",
              "      border-left-color: var(--fill-color);\n",
              "      border-top-color: var(--fill-color);\n",
              "    }\n",
              "    30% {\n",
              "      border-color: transparent;\n",
              "      border-left-color: var(--fill-color);\n",
              "      border-top-color: var(--fill-color);\n",
              "      border-right-color: var(--fill-color);\n",
              "    }\n",
              "    40% {\n",
              "      border-color: transparent;\n",
              "      border-right-color: var(--fill-color);\n",
              "      border-top-color: var(--fill-color);\n",
              "    }\n",
              "    60% {\n",
              "      border-color: transparent;\n",
              "      border-right-color: var(--fill-color);\n",
              "    }\n",
              "    80% {\n",
              "      border-color: transparent;\n",
              "      border-right-color: var(--fill-color);\n",
              "      border-bottom-color: var(--fill-color);\n",
              "    }\n",
              "    90% {\n",
              "      border-color: transparent;\n",
              "      border-bottom-color: var(--fill-color);\n",
              "    }\n",
              "  }\n",
              "</style>\n",
              "\n",
              "  <script>\n",
              "    async function quickchart(key) {\n",
              "      const quickchartButtonEl =\n",
              "        document.querySelector('#' + key + ' button');\n",
              "      quickchartButtonEl.disabled = true;  // To prevent multiple clicks.\n",
              "      quickchartButtonEl.classList.add('colab-df-spinner');\n",
              "      try {\n",
              "        const charts = await google.colab.kernel.invokeFunction(\n",
              "            'suggestCharts', [key], {});\n",
              "      } catch (error) {\n",
              "        console.error('Error during call to suggestCharts:', error);\n",
              "      }\n",
              "      quickchartButtonEl.classList.remove('colab-df-spinner');\n",
              "      quickchartButtonEl.classList.add('colab-df-quickchart-complete');\n",
              "    }\n",
              "    (() => {\n",
              "      let quickchartButtonEl =\n",
              "        document.querySelector('#df-7fbd204e-99d4-4b25-8434-453e054f8759 button');\n",
              "      quickchartButtonEl.style.display =\n",
              "        google.colab.kernel.accessAllowed ? 'block' : 'none';\n",
              "    })();\n",
              "  </script>\n",
              "</div>\n",
              "\n",
              "    </div>\n",
              "  </div>\n"
            ]
          },
          "metadata": {},
          "execution_count": 3
        }
      ],
      "source": [
        "df.head()"
      ]
    },
    {
      "cell_type": "code",
      "execution_count": null,
      "metadata": {
        "id": "96stTD1nL2TO",
        "outputId": "9877483f-06f7-4483-fc58-9802335675a7"
      },
      "outputs": [
        {
          "data": {
            "text/html": [
              "<div>\n",
              "<style scoped>\n",
              "    .dataframe tbody tr th:only-of-type {\n",
              "        vertical-align: middle;\n",
              "    }\n",
              "\n",
              "    .dataframe tbody tr th {\n",
              "        vertical-align: top;\n",
              "    }\n",
              "\n",
              "    .dataframe thead th {\n",
              "        text-align: right;\n",
              "    }\n",
              "</style>\n",
              "<table border=\"1\" class=\"dataframe\">\n",
              "  <thead>\n",
              "    <tr style=\"text-align: right;\">\n",
              "      <th></th>\n",
              "      <th>Date</th>\n",
              "      <th>Open</th>\n",
              "      <th>High</th>\n",
              "      <th>Low</th>\n",
              "      <th>Close</th>\n",
              "      <th>Volume</th>\n",
              "      <th>Dividends</th>\n",
              "      <th>Stock Splits</th>\n",
              "    </tr>\n",
              "  </thead>\n",
              "  <tbody>\n",
              "    <tr>\n",
              "      <th>10745</th>\n",
              "      <td>2023-07-28 00:00:00-04:00</td>\n",
              "      <td>194.669998</td>\n",
              "      <td>196.630005</td>\n",
              "      <td>194.139999</td>\n",
              "      <td>195.830002</td>\n",
              "      <td>48291400</td>\n",
              "      <td>0.0</td>\n",
              "      <td>0.0</td>\n",
              "    </tr>\n",
              "    <tr>\n",
              "      <th>10746</th>\n",
              "      <td>2023-07-31 00:00:00-04:00</td>\n",
              "      <td>196.059998</td>\n",
              "      <td>196.490005</td>\n",
              "      <td>195.259995</td>\n",
              "      <td>196.449997</td>\n",
              "      <td>38824100</td>\n",
              "      <td>0.0</td>\n",
              "      <td>0.0</td>\n",
              "    </tr>\n",
              "    <tr>\n",
              "      <th>10747</th>\n",
              "      <td>2023-08-01 00:00:00-04:00</td>\n",
              "      <td>196.240005</td>\n",
              "      <td>196.729996</td>\n",
              "      <td>195.279999</td>\n",
              "      <td>195.610001</td>\n",
              "      <td>35175100</td>\n",
              "      <td>0.0</td>\n",
              "      <td>0.0</td>\n",
              "    </tr>\n",
              "    <tr>\n",
              "      <th>10748</th>\n",
              "      <td>2023-08-02 00:00:00-04:00</td>\n",
              "      <td>195.039993</td>\n",
              "      <td>195.179993</td>\n",
              "      <td>191.850006</td>\n",
              "      <td>192.580002</td>\n",
              "      <td>50241600</td>\n",
              "      <td>0.0</td>\n",
              "      <td>0.0</td>\n",
              "    </tr>\n",
              "    <tr>\n",
              "      <th>10749</th>\n",
              "      <td>2023-08-03 00:00:00-04:00</td>\n",
              "      <td>191.570007</td>\n",
              "      <td>192.369995</td>\n",
              "      <td>190.839996</td>\n",
              "      <td>191.929993</td>\n",
              "      <td>25277752</td>\n",
              "      <td>0.0</td>\n",
              "      <td>0.0</td>\n",
              "    </tr>\n",
              "  </tbody>\n",
              "</table>\n",
              "</div>"
            ],
            "text/plain": [
              "                            Date        Open        High         Low  \\\n",
              "10745  2023-07-28 00:00:00-04:00  194.669998  196.630005  194.139999   \n",
              "10746  2023-07-31 00:00:00-04:00  196.059998  196.490005  195.259995   \n",
              "10747  2023-08-01 00:00:00-04:00  196.240005  196.729996  195.279999   \n",
              "10748  2023-08-02 00:00:00-04:00  195.039993  195.179993  191.850006   \n",
              "10749  2023-08-03 00:00:00-04:00  191.570007  192.369995  190.839996   \n",
              "\n",
              "            Close    Volume  Dividends  Stock Splits  \n",
              "10745  195.830002  48291400        0.0           0.0  \n",
              "10746  196.449997  38824100        0.0           0.0  \n",
              "10747  195.610001  35175100        0.0           0.0  \n",
              "10748  192.580002  50241600        0.0           0.0  \n",
              "10749  191.929993  25277752        0.0           0.0  "
            ]
          },
          "execution_count": 5,
          "metadata": {},
          "output_type": "execute_result"
        }
      ],
      "source": [
        "df.tail()"
      ]
    },
    {
      "cell_type": "code",
      "execution_count": 4,
      "metadata": {
        "id": "DKAXIE28L2TO"
      },
      "outputs": [],
      "source": [
        "df2=df.reset_index()['Open']"
      ]
    },
    {
      "cell_type": "code",
      "execution_count": null,
      "metadata": {
        "id": "KC3Rfn3iL2TO",
        "outputId": "bb6cfe3d-93d3-44a5-af97-11059b620fbc"
      },
      "outputs": [
        {
          "data": {
            "text/plain": [
              "(10750,)"
            ]
          },
          "execution_count": 9,
          "metadata": {},
          "output_type": "execute_result"
        }
      ],
      "source": [
        "df2.shape"
      ]
    },
    {
      "cell_type": "code",
      "execution_count": 5,
      "metadata": {
        "id": "YmfJkQKsL2TO"
      },
      "outputs": [],
      "source": [
        "import matplotlib.pyplot as plt\n",
        "%matplotlib inline"
      ]
    },
    {
      "cell_type": "code",
      "execution_count": null,
      "metadata": {
        "id": "CFrM3UFsL2TO",
        "outputId": "f8dbbd2f-77cf-4a45-8e60-d34f0d01b92b"
      },
      "outputs": [
        {
          "data": {
            "text/plain": [
              "<Axes: >"
            ]
          },
          "execution_count": 11,
          "metadata": {},
          "output_type": "execute_result"
        },
        {
          "data": {
            "image/png": "[encoded data removed]",
            "text/plain": [
              "<Figure size 640x480 with 1 Axes>"
            ]
          },
          "metadata": {},
          "output_type": "display_data"
        }
      ],
      "source": [
        "df2.plot()"
      ]
    },
    {
      "cell_type": "markdown",
      "metadata": {
        "id": "rEbsb0SmL2TP"
      },
      "source": [
        "LSTM"
      ]
    },
    {
      "cell_type": "code",
      "execution_count": 6,
      "metadata": {
        "id": "0pi7TGebL2TQ"
      },
      "outputs": [],
      "source": [
        "import numpy as np"
      ]
    },
    {
      "cell_type": "code",
      "execution_count": 7,
      "metadata": {
        "id": "H2dIx61dL2TR"
      },
      "outputs": [],
      "source": [
        "from sklearn.preprocessing import MinMaxScaler\n",
        "scaler=MinMaxScaler(feature_range=(0,1))\n",
        "df2=scaler.fit_transform(np.array(df2).reshape(-1,1))"
      ]
    },
    {
      "cell_type": "code",
      "execution_count": 8,
      "metadata": {
        "id": "IgDEKtbWL2TR",
        "outputId": "1702fc74-5061-4af3-c84d-1327bb4cf256",
        "colab": {
          "base_uri": "https://localhost:8080/"
        }
      },
      "outputs": [
        {
          "output_type": "execute_result",
          "data": {
            "text/plain": [
              "(10750, 1)"
            ]
          },
          "metadata": {},
          "execution_count": 8
        }
      ],
      "source": [
        "df2.shape"
      ]
    },
    {
      "cell_type": "code",
      "execution_count": 9,
      "metadata": {
        "id": "P1ZwsQ-9L2TS",
        "outputId": "1758fec1-a45e-48d6-ca90-ea14edcd55ca",
        "colab": {
          "base_uri": "https://localhost:8080/"
        }
      },
      "outputs": [
        {
          "output_type": "execute_result",
          "data": {
            "text/plain": [
              "array([[3.11156183e-04],\n",
              "       [2.86882982e-04],\n",
              "       [2.51572935e-04],\n",
              "       ...,\n",
              "       [1.00000000e+00],\n",
              "       [9.93883776e-01],\n",
              "       [9.76197945e-01]])"
            ]
          },
          "metadata": {},
          "execution_count": 9
        }
      ],
      "source": [
        "df2"
      ]
    },
    {
      "cell_type": "code",
      "execution_count": 10,
      "metadata": {
        "id": "9Ep5PzbhL2TS"
      },
      "outputs": [],
      "source": [
        "training_size=int(len(df2)*0.65)\n",
        "testing_size=len(df2)-training_size\n",
        "train_data,test_data=df2[0:training_size,:],df2[training_size:len(df2),:1]"
      ]
    },
    {
      "cell_type": "code",
      "execution_count": 11,
      "metadata": {
        "id": "8I9gup0lL2TT",
        "outputId": "39efa31e-50f6-45ed-d409-131ac5d44ded",
        "colab": {
          "base_uri": "https://localhost:8080/"
        }
      },
      "outputs": [
        {
          "output_type": "execute_result",
          "data": {
            "text/plain": [
              "array([[0.00031116],\n",
              "       [0.00028688],\n",
              "       [0.00025157],\n",
              "       ...,\n",
              "       [0.02696672],\n",
              "       [0.02680737],\n",
              "       [0.02684295]])"
            ]
          },
          "metadata": {},
          "execution_count": 11
        }
      ],
      "source": [
        "train_data"
      ]
    },
    {
      "cell_type": "code",
      "execution_count": 12,
      "metadata": {
        "id": "OM92K7FJL2TT",
        "outputId": "14ed8dec-4681-4ef3-a831-46ea35595324",
        "colab": {
          "base_uri": "https://localhost:8080/"
        }
      },
      "outputs": [
        {
          "output_type": "execute_result",
          "data": {
            "text/plain": [
              "array([[0.02679654],\n",
              "       [0.0270054 ],\n",
              "       [0.02705644],\n",
              "       ...,\n",
              "       [1.        ],\n",
              "       [0.99388378],\n",
              "       [0.97619795]])"
            ]
          },
          "metadata": {},
          "execution_count": 12
        }
      ],
      "source": [
        "test_data"
      ]
    },
    {
      "cell_type": "code",
      "execution_count": 13,
      "metadata": {
        "id": "Efb1CINvL2TU"
      },
      "outputs": [],
      "source": [
        "import numpy\n",
        "def create_dataset(dataset,time_step=1):\n",
        "    dataX,dataY=[],[]\n",
        "    for i in range(len(dataset)-time_step-1):\n",
        "        a=dataset[i:(i+time_step),0]\n",
        "        dataX.append(a)\n",
        "        dataY.append(dataset[i+time_step,0])\n",
        "    return numpy.array(dataX),numpy.array(dataY)"
      ]
    },
    {
      "cell_type": "code",
      "execution_count": 14,
      "metadata": {
        "id": "GHYqZL2RL2TU"
      },
      "outputs": [],
      "source": [
        "time_step=100\n",
        "x_train,y_train=create_dataset(train_data,time_step)\n",
        "x_test,ytest=create_dataset(test_data,time_step)"
      ]
    },
    {
      "cell_type": "code",
      "execution_count": 15,
      "metadata": {
        "id": "l2F7p2SRL2TV",
        "outputId": "0de817a0-bc90-48f9-e140-30760c383f3a",
        "colab": {
          "base_uri": "https://localhost:8080/"
        }
      },
      "outputs": [
        {
          "output_type": "execute_result",
          "data": {
            "text/plain": [
              "array([[0.00031116, 0.00028688, 0.00025157, ..., 0.00030454, 0.00030233,\n",
              "        0.00028909],\n",
              "       [0.00028688, 0.00025157, 0.0002604 , ..., 0.00030233, 0.00028909,\n",
              "        0.0002935 ],\n",
              "       [0.00025157, 0.0002604 , 0.00027364, ..., 0.00028909, 0.0002935 ,\n",
              "        0.00029792],\n",
              "       ...,\n",
              "       [0.02159814, 0.02222939, 0.02174203, ..., 0.02664956, 0.02733958,\n",
              "        0.02739373],\n",
              "       [0.02222939, 0.02174203, 0.02196946, ..., 0.02733958, 0.02739373,\n",
              "        0.02750358],\n",
              "       [0.02174203, 0.02196946, 0.02243824, ..., 0.02739373, 0.02750358,\n",
              "        0.02696672]])"
            ]
          },
          "metadata": {},
          "execution_count": 15
        }
      ],
      "source": [
        "x_train"
      ]
    },
    {
      "cell_type": "code",
      "execution_count": 16,
      "metadata": {
        "id": "0JclMk24L2TW",
        "outputId": "1717dcca-61ec-4713-c805-741746199367",
        "colab": {
          "base_uri": "https://localhost:8080/"
        }
      },
      "outputs": [
        {
          "output_type": "execute_result",
          "data": {
            "text/plain": [
              "(6886, 100)"
            ]
          },
          "metadata": {},
          "execution_count": 16
        }
      ],
      "source": [
        "x_train.shape"
      ]
    },
    {
      "cell_type": "code",
      "execution_count": null,
      "metadata": {
        "id": "XqGtxVpTL2TW",
        "outputId": "7598dfff-3bef-4e39-cd0c-e4500323dc1c"
      },
      "outputs": [
        {
          "data": {
            "text/plain": [
              "(6886,)"
            ]
          },
          "execution_count": 23,
          "metadata": {},
          "output_type": "execute_result"
        }
      ],
      "source": [
        "y_train.shape"
      ]
    },
    {
      "cell_type": "code",
      "execution_count": null,
      "metadata": {
        "id": "nqMLZDqNL2TW",
        "outputId": "65052fec-2361-419e-d0e1-a4a6e59a6476"
      },
      "outputs": [
        {
          "data": {
            "text/plain": [
              "(3662, 100)"
            ]
          },
          "execution_count": 24,
          "metadata": {},
          "output_type": "execute_result"
        }
      ],
      "source": [
        "x_test.shape"
      ]
    },
    {
      "cell_type": "code",
      "execution_count": 17,
      "metadata": {
        "id": "NxsSEDf8L2TW"
      },
      "outputs": [],
      "source": [
        "x_train=x_train.reshape(x_train.shape[0],x_train.shape[1],1)\n",
        "x_test=x_test.reshape(x_test.shape[0],x_test.shape[1],1)"
      ]
    },
    {
      "cell_type": "code",
      "execution_count": 31,
      "metadata": {
        "id": "YKL8TagiL2TW"
      },
      "outputs": [],
      "source": [
        "import keras as keras\n",
        "import tensorflow as tf\n",
        "from keras import layers\n",
        "from tensorflow.keras.layers import Dense,LSTM"
      ]
    },
    {
      "cell_type": "code",
      "execution_count": 33,
      "metadata": {
        "id": "A1kM23DyL2TW"
      },
      "outputs": [],
      "source": [
        "model=keras.Sequential()\n",
        "model.add(tf.keras.layers.LSTM(50,return_sequences=True,input_shape=(100,1)))\n",
        "model.add(tf.keras.layers.LSTM(50,return_sequences=True))\n",
        "model.add(tf.keras.layers.LSTM(50))\n",
        "model.add(tf.keras.layers.Dense(1))\n",
        "model.compile(loss='mean_squared_error',optimizer='adam')"
      ]
    },
    {
      "cell_type": "code",
      "source": [
        "model.summary()"
      ],
      "metadata": {
        "id": "V071_wLnOuHI",
        "outputId": "bf7c89f2-c774-4bd1-b4f5-b38e8990bdd6",
        "colab": {
          "base_uri": "https://localhost:8080/"
        }
      },
      "execution_count": 34,
      "outputs": [
        {
          "output_type": "stream",
          "name": "stdout",
          "text": [
            "Model: \"sequential_3\"\n",
            "_________________________________________________________________\n",
            " Layer (type)                Output Shape              Param #   \n",
            "=================================================================\n",
            " lstm_2 (LSTM)               (None, 100, 50)           10400     \n",
            "                                                                 \n",
            " lstm_3 (LSTM)               (None, 100, 50)           20200     \n",
            "                                                                 \n",
            " lstm_4 (LSTM)               (None, 50)                20200     \n",
            "                                                                 \n",
            " dense (Dense)               (None, 1)                 51        \n",
            "                                                                 \n",
            "=================================================================\n",
            "Total params: 50851 (198.64 KB)\n",
            "Trainable params: 50851 (198.64 KB)\n",
            "Non-trainable params: 0 (0.00 Byte)\n",
            "_________________________________________________________________\n"
          ]
        }
      ]
    },
    {
      "cell_type": "code",
      "source": [
        "model.fit(x_train,y_train,validation_data=(x_test,ytest),epochs=100,batch_size=64,verbose=1)"
      ],
      "metadata": {
        "id": "1048jGnEO1FS",
        "outputId": "da71c1b8-5dc4-4bf9-bd0a-21dcfc454f71",
        "colab": {
          "base_uri": "https://localhost:8080/"
        }
      },
      "execution_count": 37,
      "outputs": [
        {
          "output_type": "stream",
          "name": "stdout",
          "text": [
            "Epoch 1/100\n",
            "108/108 [==============================] - 34s 313ms/step - loss: 1.9412e-07 - val_loss: 0.0021\n",
            "Epoch 2/100\n",
            "108/108 [==============================] - 24s 220ms/step - loss: 1.6067e-07 - val_loss: 0.0023\n",
            "Epoch 3/100\n",
            "108/108 [==============================] - 23s 217ms/step - loss: 2.1991e-07 - val_loss: 0.0035\n",
            "Epoch 4/100\n",
            "108/108 [==============================] - 22s 206ms/step - loss: 1.4636e-07 - val_loss: 0.0021\n",
            "Epoch 5/100\n",
            "108/108 [==============================] - 24s 226ms/step - loss: 1.5877e-07 - val_loss: 0.0018\n",
            "Epoch 6/100\n",
            "108/108 [==============================] - 24s 225ms/step - loss: 2.3116e-07 - val_loss: 0.0030\n",
            "Epoch 7/100\n",
            "108/108 [==============================] - 24s 224ms/step - loss: 1.5644e-07 - val_loss: 0.0041\n",
            "Epoch 8/100\n",
            "108/108 [==============================] - 22s 206ms/step - loss: 1.7607e-07 - val_loss: 0.0021\n",
            "Epoch 9/100\n",
            "108/108 [==============================] - 24s 220ms/step - loss: 1.5252e-07 - val_loss: 0.0029\n",
            "Epoch 10/100\n",
            "108/108 [==============================] - 24s 226ms/step - loss: 1.6949e-07 - val_loss: 0.0021\n",
            "Epoch 11/100\n",
            "108/108 [==============================] - 22s 205ms/step - loss: 1.7807e-07 - val_loss: 0.0023\n",
            "Epoch 12/100\n",
            "108/108 [==============================] - 24s 218ms/step - loss: 2.0269e-07 - val_loss: 0.0030\n",
            "Epoch 13/100\n",
            "108/108 [==============================] - 23s 216ms/step - loss: 1.6648e-07 - val_loss: 0.0034\n",
            "Epoch 14/100\n",
            "108/108 [==============================] - 22s 203ms/step - loss: 2.2351e-07 - val_loss: 0.0030\n",
            "Epoch 15/100\n",
            "108/108 [==============================] - 23s 218ms/step - loss: 2.3047e-07 - val_loss: 0.0044\n",
            "Epoch 16/100\n",
            "108/108 [==============================] - 23s 216ms/step - loss: 1.5922e-07 - val_loss: 0.0032\n",
            "Epoch 17/100\n",
            "108/108 [==============================] - 22s 204ms/step - loss: 1.6030e-07 - val_loss: 0.0038\n",
            "Epoch 18/100\n",
            "108/108 [==============================] - 23s 217ms/step - loss: 1.4307e-07 - val_loss: 0.0029\n",
            "Epoch 19/100\n",
            "108/108 [==============================] - 23s 216ms/step - loss: 1.8187e-07 - val_loss: 0.0041\n",
            "Epoch 20/100\n",
            "108/108 [==============================] - 24s 225ms/step - loss: 1.6665e-07 - val_loss: 0.0038\n",
            "Epoch 21/100\n",
            "108/108 [==============================] - 23s 210ms/step - loss: 1.3994e-07 - val_loss: 0.0042\n",
            "Epoch 22/100\n",
            "108/108 [==============================] - 24s 220ms/step - loss: 1.3573e-07 - val_loss: 0.0041\n",
            "Epoch 23/100\n",
            "108/108 [==============================] - 24s 224ms/step - loss: 1.7523e-07 - val_loss: 0.0039\n",
            "Epoch 24/100\n",
            "108/108 [==============================] - 22s 206ms/step - loss: 1.1608e-07 - val_loss: 0.0047\n",
            "Epoch 25/100\n",
            "108/108 [==============================] - 24s 220ms/step - loss: 1.2448e-07 - val_loss: 0.0041\n",
            "Epoch 26/100\n",
            "108/108 [==============================] - 23s 217ms/step - loss: 1.4059e-07 - val_loss: 0.0047\n",
            "Epoch 27/100\n",
            "108/108 [==============================] - 24s 227ms/step - loss: 1.2929e-07 - val_loss: 0.0043\n",
            "Epoch 28/100\n",
            "108/108 [==============================] - 23s 208ms/step - loss: 1.6449e-07 - val_loss: 0.0045\n",
            "Epoch 29/100\n",
            "108/108 [==============================] - 24s 219ms/step - loss: 1.4748e-07 - val_loss: 0.0050\n",
            "Epoch 30/100\n",
            "108/108 [==============================] - 24s 224ms/step - loss: 1.3515e-07 - val_loss: 0.0045\n",
            "Epoch 31/100\n",
            "108/108 [==============================] - 22s 206ms/step - loss: 1.6558e-07 - val_loss: 0.0044\n",
            "Epoch 32/100\n",
            "108/108 [==============================] - 24s 220ms/step - loss: 1.2151e-07 - val_loss: 0.0044\n",
            "Epoch 33/100\n",
            "108/108 [==============================] - 23s 218ms/step - loss: 1.4901e-07 - val_loss: 0.0050\n",
            "Epoch 34/100\n",
            "108/108 [==============================] - 22s 207ms/step - loss: 1.2078e-07 - val_loss: 0.0056\n",
            "Epoch 35/100\n",
            "108/108 [==============================] - 24s 219ms/step - loss: 1.2419e-07 - val_loss: 0.0040\n",
            "Epoch 36/100\n",
            "108/108 [==============================] - 23s 218ms/step - loss: 1.4790e-07 - val_loss: 0.0048\n",
            "Epoch 37/100\n",
            "108/108 [==============================] - 22s 205ms/step - loss: 1.3099e-07 - val_loss: 0.0062\n",
            "Epoch 38/100\n",
            "108/108 [==============================] - 24s 220ms/step - loss: 1.3608e-07 - val_loss: 0.0046\n",
            "Epoch 39/100\n",
            "108/108 [==============================] - 23s 218ms/step - loss: 1.1043e-07 - val_loss: 0.0061\n",
            "Epoch 40/100\n",
            "108/108 [==============================] - 22s 206ms/step - loss: 1.4618e-07 - val_loss: 0.0062\n",
            "Epoch 41/100\n",
            "108/108 [==============================] - 24s 221ms/step - loss: 1.1205e-07 - val_loss: 0.0061\n",
            "Epoch 42/100\n",
            "108/108 [==============================] - 24s 221ms/step - loss: 1.2422e-07 - val_loss: 0.0052\n",
            "Epoch 43/100\n",
            "108/108 [==============================] - 24s 224ms/step - loss: 1.4407e-07 - val_loss: 0.0053\n",
            "Epoch 44/100\n",
            "108/108 [==============================] - 22s 206ms/step - loss: 1.8826e-07 - val_loss: 0.0063\n",
            "Epoch 45/100\n",
            "108/108 [==============================] - 24s 220ms/step - loss: 9.8147e-08 - val_loss: 0.0056\n",
            "Epoch 46/100\n",
            "108/108 [==============================] - 23s 217ms/step - loss: 1.2247e-07 - val_loss: 0.0056\n",
            "Epoch 47/100\n",
            "108/108 [==============================] - 22s 206ms/step - loss: 1.5197e-07 - val_loss: 0.0056\n",
            "Epoch 48/100\n",
            "108/108 [==============================] - 23s 218ms/step - loss: 1.0959e-07 - val_loss: 0.0058\n",
            "Epoch 49/100\n",
            "108/108 [==============================] - 23s 216ms/step - loss: 1.0353e-07 - val_loss: 0.0062\n",
            "Epoch 50/100\n",
            "108/108 [==============================] - 22s 205ms/step - loss: 1.1479e-07 - val_loss: 0.0055\n",
            "Epoch 51/100\n",
            "108/108 [==============================] - 24s 219ms/step - loss: 1.3691e-07 - val_loss: 0.0066\n",
            "Epoch 52/100\n",
            "108/108 [==============================] - 23s 216ms/step - loss: 9.4590e-08 - val_loss: 0.0072\n",
            "Epoch 53/100\n",
            "108/108 [==============================] - 22s 204ms/step - loss: 1.1915e-07 - val_loss: 0.0056\n",
            "Epoch 54/100\n",
            "108/108 [==============================] - 24s 219ms/step - loss: 1.3769e-07 - val_loss: 0.0068\n",
            "Epoch 55/100\n",
            "108/108 [==============================] - 23s 215ms/step - loss: 1.2259e-07 - val_loss: 0.0076\n",
            "Epoch 56/100\n",
            "108/108 [==============================] - 22s 206ms/step - loss: 1.2017e-07 - val_loss: 0.0084\n",
            "Epoch 57/100\n",
            "108/108 [==============================] - 24s 220ms/step - loss: 1.0722e-07 - val_loss: 0.0078\n",
            "Epoch 58/100\n",
            "108/108 [==============================] - 23s 215ms/step - loss: 9.9474e-08 - val_loss: 0.0067\n",
            "Epoch 59/100\n",
            "108/108 [==============================] - 22s 205ms/step - loss: 1.0988e-07 - val_loss: 0.0064\n",
            "Epoch 60/100\n",
            "108/108 [==============================] - 24s 219ms/step - loss: 9.1001e-08 - val_loss: 0.0062\n",
            "Epoch 61/100\n",
            "108/108 [==============================] - 23s 215ms/step - loss: 8.5157e-08 - val_loss: 0.0072\n",
            "Epoch 62/100\n",
            "108/108 [==============================] - 22s 204ms/step - loss: 1.2274e-07 - val_loss: 0.0076\n",
            "Epoch 63/100\n",
            "108/108 [==============================] - 23s 217ms/step - loss: 1.3939e-07 - val_loss: 0.0075\n",
            "Epoch 64/100\n",
            "108/108 [==============================] - 24s 223ms/step - loss: 1.4866e-07 - val_loss: 0.0067\n",
            "Epoch 65/100\n",
            "108/108 [==============================] - 22s 205ms/step - loss: 1.3209e-07 - val_loss: 0.0079\n",
            "Epoch 66/100\n",
            "108/108 [==============================] - 23s 218ms/step - loss: 9.5258e-08 - val_loss: 0.0063\n",
            "Epoch 67/100\n",
            "108/108 [==============================] - 23s 216ms/step - loss: 1.3542e-07 - val_loss: 0.0074\n",
            "Epoch 68/100\n",
            "108/108 [==============================] - 22s 204ms/step - loss: 9.1908e-08 - val_loss: 0.0082\n",
            "Epoch 69/100\n",
            "108/108 [==============================] - 23s 218ms/step - loss: 1.0264e-07 - val_loss: 0.0074\n",
            "Epoch 70/100\n",
            "108/108 [==============================] - 23s 215ms/step - loss: 1.0589e-07 - val_loss: 0.0071\n",
            "Epoch 71/100\n",
            "108/108 [==============================] - 22s 205ms/step - loss: 9.3188e-08 - val_loss: 0.0081\n",
            "Epoch 72/100\n",
            "108/108 [==============================] - 23s 218ms/step - loss: 1.2229e-07 - val_loss: 0.0078\n",
            "Epoch 73/100\n",
            "108/108 [==============================] - 23s 217ms/step - loss: 9.9444e-08 - val_loss: 0.0083\n",
            "Epoch 74/100\n",
            "108/108 [==============================] - 22s 203ms/step - loss: 1.0117e-07 - val_loss: 0.0071\n",
            "Epoch 75/100\n",
            "108/108 [==============================] - 24s 219ms/step - loss: 1.3170e-07 - val_loss: 0.0081\n",
            "Epoch 76/100\n",
            "108/108 [==============================] - 23s 214ms/step - loss: 7.5630e-08 - val_loss: 0.0083\n",
            "Epoch 77/100\n",
            "108/108 [==============================] - 22s 203ms/step - loss: 1.1900e-07 - val_loss: 0.0089\n",
            "Epoch 78/100\n",
            "108/108 [==============================] - 25s 237ms/step - loss: 1.0156e-07 - val_loss: 0.0077\n",
            "Epoch 79/100\n",
            "108/108 [==============================] - 23s 215ms/step - loss: 8.6925e-08 - val_loss: 0.0083\n",
            "Epoch 80/100\n",
            "108/108 [==============================] - 22s 204ms/step - loss: 9.0591e-08 - val_loss: 0.0088\n",
            "Epoch 81/100\n",
            "108/108 [==============================] - 26s 245ms/step - loss: 1.0318e-07 - val_loss: 0.0084\n",
            "Epoch 82/100\n",
            "108/108 [==============================] - 24s 222ms/step - loss: 1.2788e-07 - val_loss: 0.0102\n",
            "Epoch 83/100\n",
            "108/108 [==============================] - 23s 215ms/step - loss: 8.7589e-08 - val_loss: 0.0077\n",
            "Epoch 84/100\n",
            "108/108 [==============================] - 22s 204ms/step - loss: 9.0048e-08 - val_loss: 0.0087\n",
            "Epoch 85/100\n",
            "108/108 [==============================] - 24s 218ms/step - loss: 9.0568e-08 - val_loss: 0.0090\n",
            "Epoch 86/100\n",
            "108/108 [==============================] - 23s 216ms/step - loss: 1.0366e-07 - val_loss: 0.0084\n",
            "Epoch 87/100\n",
            "108/108 [==============================] - 22s 205ms/step - loss: 8.5820e-08 - val_loss: 0.0088\n",
            "Epoch 88/100\n",
            "108/108 [==============================] - 23s 218ms/step - loss: 9.6888e-08 - val_loss: 0.0090\n",
            "Epoch 89/100\n",
            "108/108 [==============================] - 23s 216ms/step - loss: 8.4629e-08 - val_loss: 0.0076\n",
            "Epoch 90/100\n",
            "108/108 [==============================] - 22s 205ms/step - loss: 1.1230e-07 - val_loss: 0.0095\n",
            "Epoch 91/100\n",
            "108/108 [==============================] - 24s 220ms/step - loss: 9.6241e-08 - val_loss: 0.0089\n",
            "Epoch 92/100\n",
            "108/108 [==============================] - 23s 215ms/step - loss: 1.0161e-07 - val_loss: 0.0084\n",
            "Epoch 93/100\n",
            "108/108 [==============================] - 22s 204ms/step - loss: 7.9416e-08 - val_loss: 0.0100\n",
            "Epoch 94/100\n",
            "108/108 [==============================] - 23s 217ms/step - loss: 8.4490e-08 - val_loss: 0.0092\n",
            "Epoch 95/100\n",
            "108/108 [==============================] - 23s 215ms/step - loss: 9.7172e-08 - val_loss: 0.0094\n",
            "Epoch 96/100\n",
            "108/108 [==============================] - 22s 203ms/step - loss: 1.0256e-07 - val_loss: 0.0095\n",
            "Epoch 97/100\n",
            "108/108 [==============================] - 23s 218ms/step - loss: 8.9669e-08 - val_loss: 0.0095\n",
            "Epoch 98/100\n",
            "108/108 [==============================] - 23s 215ms/step - loss: 1.0815e-07 - val_loss: 0.0098\n",
            "Epoch 99/100\n",
            "108/108 [==============================] - 22s 207ms/step - loss: 8.6372e-08 - val_loss: 0.0090\n",
            "Epoch 100/100\n",
            "108/108 [==============================] - 24s 220ms/step - loss: 7.8921e-08 - val_loss: 0.0102\n"
          ]
        },
        {
          "output_type": "execute_result",
          "data": {
            "text/plain": [
              "<keras.src.callbacks.History at 0x7ea4554fda20>"
            ]
          },
          "metadata": {},
          "execution_count": 37
        }
      ]
    },
    {
      "cell_type": "code",
      "source": [
        "train_predict=model.predict(x_train)\n",
        "test_predict=model.predict(x_test)"
      ],
      "metadata": {
        "id": "_PSbqTkUQIT_",
        "outputId": "63742b5b-704f-46ca-ee5c-7ee122434710",
        "colab": {
          "base_uri": "https://localhost:8080/"
        }
      },
      "execution_count": 38,
      "outputs": [
        {
          "output_type": "stream",
          "name": "stdout",
          "text": [
            "216/216 [==============================] - 11s 44ms/step\n",
            "115/115 [==============================] - 4s 37ms/step\n"
          ]
        }
      ]
    },
    {
      "cell_type": "code",
      "source": [
        "train_predict=scaler.inverse_transform(train_predict)\n",
        "test_predict=scaler.inverse_transform(test_predict)"
      ],
      "metadata": {
        "id": "aI_nsE65czdm"
      },
      "execution_count": 40,
      "outputs": []
    },
    {
      "cell_type": "code",
      "source": [
        "import math\n",
        "#for training data\n",
        "from sklearn.metrics import mean_squared_error\n",
        "math.sqrt(mean_squared_error(y_train,train_predict))"
      ],
      "metadata": {
        "id": "lRR7HFUnczZ6",
        "outputId": "5bdcc69e-a8b7-42b7-cf50-0882dda5664c",
        "colab": {
          "base_uri": "https://localhost:8080/"
        }
      },
      "execution_count": 42,
      "outputs": [
        {
          "output_type": "execute_result",
          "data": {
            "text/plain": [
              "1.1703446393398909"
            ]
          },
          "metadata": {},
          "execution_count": 42
        }
      ]
    },
    {
      "cell_type": "code",
      "source": [
        "math.sqrt(mean_squared_error(ytest,test_predict))"
      ],
      "metadata": {
        "id": "79Fm-qK_dx1Q",
        "outputId": "23d7587d-ba80-4589-b0ec-6ee6a2ff6caf",
        "colab": {
          "base_uri": "https://localhost:8080/"
        }
      },
      "execution_count": 43,
      "outputs": [
        {
          "output_type": "execute_result",
          "data": {
            "text/plain": [
              "53.965408820712796"
            ]
          },
          "metadata": {},
          "execution_count": 43
        }
      ]
    },
    {
      "cell_type": "code",
      "source": [
        "look_back=100\n",
        "trainPredictPlot = numpy.empty_like(df2)\n",
        "trainPredictPlot[:, :] = np.nan\n",
        "trainPredictPlot[look_back:len(train_predict)+look_back, :] = train_predict\n",
        "# shift test predictions for plotting\n",
        "testPredictPlot = numpy.empty_like(df2)\n",
        "testPredictPlot[:, :] = numpy.nan\n",
        "testPredictPlot[len(train_predict)+(look_back*2)+1:len(df2)-1, :] = test_predict\n",
        "# plot baseline and predictions\n",
        "plt.plot(scaler.inverse_transform(df2))\n",
        "plt.plot(trainPredictPlot)\n",
        "plt.plot(testPredictPlot)\n",
        "plt.show()"
      ],
      "metadata": {
        "id": "AW9kfxSAdxyg",
        "outputId": "92c7af06-6616-4da5-d40c-67623cc0ed79",
        "colab": {
          "base_uri": "https://localhost:8080/",
          "height": 430
        }
      },
      "execution_count": 45,
      "outputs": [
        {
          "output_type": "display_data",
          "data": {
            "text/plain": [
              "<Figure size 640x480 with 1 Axes>"
            ],
            "image/png": "[encoded data removed]"
          },
          "metadata": {}
        }
      ]
    },
    {
      "cell_type": "code",
      "source": [
        "len(test_data)"
      ],
      "metadata": {
        "id": "svz7sOItgNUq",
        "outputId": "614840d1-b7fe-45d0-84d4-697beb75c25e",
        "colab": {
          "base_uri": "https://localhost:8080/"
        }
      },
      "execution_count": 47,
      "outputs": [
        {
          "output_type": "execute_result",
          "data": {
            "text/plain": [
              "3763"
            ]
          },
          "metadata": {},
          "execution_count": 47
        }
      ]
    },
    {
      "cell_type": "code",
      "source": [
        "x_input=test_data[3663:].reshape(1,-1)\n",
        "x_input.shape"
      ],
      "metadata": {
        "id": "sURzTwbwgDMr",
        "outputId": "dd688b6b-ce7b-42bd-f29c-0f9c24521479",
        "colab": {
          "base_uri": "https://localhost:8080/"
        }
      },
      "execution_count": 48,
      "outputs": [
        {
          "output_type": "execute_result",
          "data": {
            "text/plain": [
              "(1, 100)"
            ]
          },
          "metadata": {},
          "execution_count": 48
        }
      ]
    },
    {
      "cell_type": "code",
      "source": [
        "temp_input=list(x_input)\n",
        "temp_input=temp_input[0].tolist()"
      ],
      "metadata": {
        "id": "MUYcGoN4gDJS"
      },
      "execution_count": 49,
      "outputs": []
    },
    {
      "cell_type": "code",
      "source": [
        "# demonstrate prediction for next 10 days\n",
        "from numpy import array\n",
        "\n",
        "lst_output=[]\n",
        "n_steps=100\n",
        "i=0\n",
        "while(i<30):\n",
        "\n",
        "    if(len(temp_input)>100):\n",
        "        #print(temp_input)\n",
        "        x_input=np.array(temp_input[1:])\n",
        "        print(\"{} day input {}\".format(i,x_input))\n",
        "        x_input=x_input.reshape(1,-1)\n",
        "        x_input = x_input.reshape((1, n_steps, 1))\n",
        "        #print(x_input)\n",
        "        yhat = model.predict(x_input, verbose=0)\n",
        "        print(\"{} day output {}\".format(i,yhat))\n",
        "        temp_input.extend(yhat[0].tolist())\n",
        "        temp_input=temp_input[1:]\n",
        "        #print(temp_input)\n",
        "        lst_output.extend(yhat.tolist())\n",
        "        i=i+1\n",
        "    else:\n",
        "        x_input = x_input.reshape((1, n_steps,1))\n",
        "        yhat = model.predict(x_input, verbose=0)\n",
        "        print(yhat[0])\n",
        "        temp_input.extend(yhat[0].tolist())\n",
        "        print(len(temp_input))\n",
        "        lst_output.extend(yhat.tolist())\n",
        "        i=i+1\n",
        "\n",
        "\n",
        "print(lst_output)"
      ],
      "metadata": {
        "id": "dFX7vwJMgDHI",
        "outputId": "e2324d3f-0397-4884-f075-e06f6cbe9485",
        "colab": {
          "base_uri": "https://localhost:8080/"
        }
      },
      "execution_count": 50,
      "outputs": [
        {
          "output_type": "stream",
          "name": "stdout",
          "text": [
            "[0.633214]\n",
            "101\n",
            "1 day input [0.76978273 0.76932469 0.77426175 0.79421361 0.789073   0.8005249\n",
            " 0.81060267 0.80821044 0.80836316 0.81386009 0.80383325 0.81095892\n",
            " 0.82195282 0.82658452 0.83589879 0.84775795 0.83829097 0.82653351\n",
            " 0.82139288 0.82612644 0.82037496 0.8224618  0.83752748 0.84007234\n",
            " 0.84521307 0.84368613 0.84516207 0.83986879 0.83961429 0.84058134\n",
            " 0.82974013 0.84058134 0.85737757 0.86139843 0.86552112 0.86251821\n",
            " 0.83905438 0.87005103 0.87768565 0.88058688 0.8804342  0.88465873\n",
            " 0.88471029 0.88236581 0.87640256 0.87497546 0.8815503  0.89882845\n",
            " 0.88654514 0.88221291 0.87181539 0.87854321 0.88318131 0.90173367\n",
            " 0.90361946 0.90550525 0.92247761 0.93063253 0.91707501 0.90927691\n",
            " 0.9065246  0.92487311 0.92370087 0.93149897 0.93440411 0.93741128\n",
            " 0.95152937 0.93970483 0.94220221 0.93628998 0.94551518 0.95203908\n",
            " 0.94724807 0.95764551 0.96350688 0.97650374 0.98746183 0.97619795\n",
            " 0.96738042 0.97538244 0.96442427 0.96391463 0.96656492 0.97074433\n",
            " 0.96936817 0.97787982 0.98527025 0.98399605 0.99413863 0.98909285\n",
            " 0.98557604 0.98516829 0.98690118 0.9988787  0.99199798 0.99908254\n",
            " 1.         0.99388378 0.97619795 0.633214  ]\n",
            "1 day output [[0.6149258]]\n",
            "2 day input [0.76932469 0.77426175 0.79421361 0.789073   0.8005249  0.81060267\n",
            " 0.80821044 0.80836316 0.81386009 0.80383325 0.81095892 0.82195282\n",
            " 0.82658452 0.83589879 0.84775795 0.83829097 0.82653351 0.82139288\n",
            " 0.82612644 0.82037496 0.8224618  0.83752748 0.84007234 0.84521307\n",
            " 0.84368613 0.84516207 0.83986879 0.83961429 0.84058134 0.82974013\n",
            " 0.84058134 0.85737757 0.86139843 0.86552112 0.86251821 0.83905438\n",
            " 0.87005103 0.87768565 0.88058688 0.8804342  0.88465873 0.88471029\n",
            " 0.88236581 0.87640256 0.87497546 0.8815503  0.89882845 0.88654514\n",
            " 0.88221291 0.87181539 0.87854321 0.88318131 0.90173367 0.90361946\n",
            " 0.90550525 0.92247761 0.93063253 0.91707501 0.90927691 0.9065246\n",
            " 0.92487311 0.92370087 0.93149897 0.93440411 0.93741128 0.95152937\n",
            " 0.93970483 0.94220221 0.93628998 0.94551518 0.95203908 0.94724807\n",
            " 0.95764551 0.96350688 0.97650374 0.98746183 0.97619795 0.96738042\n",
            " 0.97538244 0.96442427 0.96391463 0.96656492 0.97074433 0.96936817\n",
            " 0.97787982 0.98527025 0.98399605 0.99413863 0.98909285 0.98557604\n",
            " 0.98516829 0.98690118 0.9988787  0.99199798 0.99908254 1.\n",
            " 0.99388378 0.97619795 0.633214   0.6149258 ]\n",
            "2 day output [[0.5816671]]\n",
            "3 day input [0.77426175 0.79421361 0.789073   0.8005249  0.81060267 0.80821044\n",
            " 0.80836316 0.81386009 0.80383325 0.81095892 0.82195282 0.82658452\n",
            " 0.83589879 0.84775795 0.83829097 0.82653351 0.82139288 0.82612644\n",
            " 0.82037496 0.8224618  0.83752748 0.84007234 0.84521307 0.84368613\n",
            " 0.84516207 0.83986879 0.83961429 0.84058134 0.82974013 0.84058134\n",
            " 0.85737757 0.86139843 0.86552112 0.86251821 0.83905438 0.87005103\n",
            " 0.87768565 0.88058688 0.8804342  0.88465873 0.88471029 0.88236581\n",
            " 0.87640256 0.87497546 0.8815503  0.89882845 0.88654514 0.88221291\n",
            " 0.87181539 0.87854321 0.88318131 0.90173367 0.90361946 0.90550525\n",
            " 0.92247761 0.93063253 0.91707501 0.90927691 0.9065246  0.92487311\n",
            " 0.92370087 0.93149897 0.93440411 0.93741128 0.95152937 0.93970483\n",
            " 0.94220221 0.93628998 0.94551518 0.95203908 0.94724807 0.95764551\n",
            " 0.96350688 0.97650374 0.98746183 0.97619795 0.96738042 0.97538244\n",
            " 0.96442427 0.96391463 0.96656492 0.97074433 0.96936817 0.97787982\n",
            " 0.98527025 0.98399605 0.99413863 0.98909285 0.98557604 0.98516829\n",
            " 0.98690118 0.9988787  0.99199798 0.99908254 1.         0.99388378\n",
            " 0.97619795 0.633214   0.6149258  0.58166713]\n",
            "3 day output [[0.5394671]]\n",
            "4 day input [0.79421361 0.789073   0.8005249  0.81060267 0.80821044 0.80836316\n",
            " 0.81386009 0.80383325 0.81095892 0.82195282 0.82658452 0.83589879\n",
            " 0.84775795 0.83829097 0.82653351 0.82139288 0.82612644 0.82037496\n",
            " 0.8224618  0.83752748 0.84007234 0.84521307 0.84368613 0.84516207\n",
            " 0.83986879 0.83961429 0.84058134 0.82974013 0.84058134 0.85737757\n",
            " 0.86139843 0.86552112 0.86251821 0.83905438 0.87005103 0.87768565\n",
            " 0.88058688 0.8804342  0.88465873 0.88471029 0.88236581 0.87640256\n",
            " 0.87497546 0.8815503  0.89882845 0.88654514 0.88221291 0.87181539\n",
            " 0.87854321 0.88318131 0.90173367 0.90361946 0.90550525 0.92247761\n",
            " 0.93063253 0.91707501 0.90927691 0.9065246  0.92487311 0.92370087\n",
            " 0.93149897 0.93440411 0.93741128 0.95152937 0.93970483 0.94220221\n",
            " 0.93628998 0.94551518 0.95203908 0.94724807 0.95764551 0.96350688\n",
            " 0.97650374 0.98746183 0.97619795 0.96738042 0.97538244 0.96442427\n",
            " 0.96391463 0.96656492 0.97074433 0.96936817 0.97787982 0.98527025\n",
            " 0.98399605 0.99413863 0.98909285 0.98557604 0.98516829 0.98690118\n",
            " 0.9988787  0.99199798 0.99908254 1.         0.99388378 0.97619795\n",
            " 0.633214   0.6149258  0.58166713 0.5394671 ]\n",
            "4 day output [[0.49343845]]\n",
            "5 day input [0.789073   0.8005249  0.81060267 0.80821044 0.80836316 0.81386009\n",
            " 0.80383325 0.81095892 0.82195282 0.82658452 0.83589879 0.84775795\n",
            " 0.83829097 0.82653351 0.82139288 0.82612644 0.82037496 0.8224618\n",
            " 0.83752748 0.84007234 0.84521307 0.84368613 0.84516207 0.83986879\n",
            " 0.83961429 0.84058134 0.82974013 0.84058134 0.85737757 0.86139843\n",
            " 0.86552112 0.86251821 0.83905438 0.87005103 0.87768565 0.88058688\n",
            " 0.8804342  0.88465873 0.88471029 0.88236581 0.87640256 0.87497546\n",
            " 0.8815503  0.89882845 0.88654514 0.88221291 0.87181539 0.87854321\n",
            " 0.88318131 0.90173367 0.90361946 0.90550525 0.92247761 0.93063253\n",
            " 0.91707501 0.90927691 0.9065246  0.92487311 0.92370087 0.93149897\n",
            " 0.93440411 0.93741128 0.95152937 0.93970483 0.94220221 0.93628998\n",
            " 0.94551518 0.95203908 0.94724807 0.95764551 0.96350688 0.97650374\n",
            " 0.98746183 0.97619795 0.96738042 0.97538244 0.96442427 0.96391463\n",
            " 0.96656492 0.97074433 0.96936817 0.97787982 0.98527025 0.98399605\n",
            " 0.99413863 0.98909285 0.98557604 0.98516829 0.98690118 0.9988787\n",
            " 0.99199798 0.99908254 1.         0.99388378 0.97619795 0.633214\n",
            " 0.6149258  0.58166713 0.5394671  0.49343845]\n",
            "5 day output [[0.44691417]]\n",
            "6 day input [0.8005249  0.81060267 0.80821044 0.80836316 0.81386009 0.80383325\n",
            " 0.81095892 0.82195282 0.82658452 0.83589879 0.84775795 0.83829097\n",
            " 0.82653351 0.82139288 0.82612644 0.82037496 0.8224618  0.83752748\n",
            " 0.84007234 0.84521307 0.84368613 0.84516207 0.83986879 0.83961429\n",
            " 0.84058134 0.82974013 0.84058134 0.85737757 0.86139843 0.86552112\n",
            " 0.86251821 0.83905438 0.87005103 0.87768565 0.88058688 0.8804342\n",
            " 0.88465873 0.88471029 0.88236581 0.87640256 0.87497546 0.8815503\n",
            " 0.89882845 0.88654514 0.88221291 0.87181539 0.87854321 0.88318131\n",
            " 0.90173367 0.90361946 0.90550525 0.92247761 0.93063253 0.91707501\n",
            " 0.90927691 0.9065246  0.92487311 0.92370087 0.93149897 0.93440411\n",
            " 0.93741128 0.95152937 0.93970483 0.94220221 0.93628998 0.94551518\n",
            " 0.95203908 0.94724807 0.95764551 0.96350688 0.97650374 0.98746183\n",
            " 0.97619795 0.96738042 0.97538244 0.96442427 0.96391463 0.96656492\n",
            " 0.97074433 0.96936817 0.97787982 0.98527025 0.98399605 0.99413863\n",
            " 0.98909285 0.98557604 0.98516829 0.98690118 0.9988787  0.99199798\n",
            " 0.99908254 1.         0.99388378 0.97619795 0.633214   0.6149258\n",
            " 0.58166713 0.5394671  0.49343845 0.44691417]\n",
            "6 day output [[0.40181038]]\n",
            "7 day input [0.81060267 0.80821044 0.80836316 0.81386009 0.80383325 0.81095892\n",
            " 0.82195282 0.82658452 0.83589879 0.84775795 0.83829097 0.82653351\n",
            " 0.82139288 0.82612644 0.82037496 0.8224618  0.83752748 0.84007234\n",
            " 0.84521307 0.84368613 0.84516207 0.83986879 0.83961429 0.84058134\n",
            " 0.82974013 0.84058134 0.85737757 0.86139843 0.86552112 0.86251821\n",
            " 0.83905438 0.87005103 0.87768565 0.88058688 0.8804342  0.88465873\n",
            " 0.88471029 0.88236581 0.87640256 0.87497546 0.8815503  0.89882845\n",
            " 0.88654514 0.88221291 0.87181539 0.87854321 0.88318131 0.90173367\n",
            " 0.90361946 0.90550525 0.92247761 0.93063253 0.91707501 0.90927691\n",
            " 0.9065246  0.92487311 0.92370087 0.93149897 0.93440411 0.93741128\n",
            " 0.95152937 0.93970483 0.94220221 0.93628998 0.94551518 0.95203908\n",
            " 0.94724807 0.95764551 0.96350688 0.97650374 0.98746183 0.97619795\n",
            " 0.96738042 0.97538244 0.96442427 0.96391463 0.96656492 0.97074433\n",
            " 0.96936817 0.97787982 0.98527025 0.98399605 0.99413863 0.98909285\n",
            " 0.98557604 0.98516829 0.98690118 0.9988787  0.99199798 0.99908254\n",
            " 1.         0.99388378 0.97619795 0.633214   0.6149258  0.58166713\n",
            " 0.5394671  0.49343845 0.44691417 0.40181038]\n",
            "7 day output [[0.35918936]]\n",
            "8 day input [0.80821044 0.80836316 0.81386009 0.80383325 0.81095892 0.82195282\n",
            " 0.82658452 0.83589879 0.84775795 0.83829097 0.82653351 0.82139288\n",
            " 0.82612644 0.82037496 0.8224618  0.83752748 0.84007234 0.84521307\n",
            " 0.84368613 0.84516207 0.83986879 0.83961429 0.84058134 0.82974013\n",
            " 0.84058134 0.85737757 0.86139843 0.86552112 0.86251821 0.83905438\n",
            " 0.87005103 0.87768565 0.88058688 0.8804342  0.88465873 0.88471029\n",
            " 0.88236581 0.87640256 0.87497546 0.8815503  0.89882845 0.88654514\n",
            " 0.88221291 0.87181539 0.87854321 0.88318131 0.90173367 0.90361946\n",
            " 0.90550525 0.92247761 0.93063253 0.91707501 0.90927691 0.9065246\n",
            " 0.92487311 0.92370087 0.93149897 0.93440411 0.93741128 0.95152937\n",
            " 0.93970483 0.94220221 0.93628998 0.94551518 0.95203908 0.94724807\n",
            " 0.95764551 0.96350688 0.97650374 0.98746183 0.97619795 0.96738042\n",
            " 0.97538244 0.96442427 0.96391463 0.96656492 0.97074433 0.96936817\n",
            " 0.97787982 0.98527025 0.98399605 0.99413863 0.98909285 0.98557604\n",
            " 0.98516829 0.98690118 0.9988787  0.99199798 0.99908254 1.\n",
            " 0.99388378 0.97619795 0.633214   0.6149258  0.58166713 0.5394671\n",
            " 0.49343845 0.44691417 0.40181038 0.35918936]\n",
            "8 day output [[0.3196791]]\n",
            "9 day input [0.80836316 0.81386009 0.80383325 0.81095892 0.82195282 0.82658452\n",
            " 0.83589879 0.84775795 0.83829097 0.82653351 0.82139288 0.82612644\n",
            " 0.82037496 0.8224618  0.83752748 0.84007234 0.84521307 0.84368613\n",
            " 0.84516207 0.83986879 0.83961429 0.84058134 0.82974013 0.84058134\n",
            " 0.85737757 0.86139843 0.86552112 0.86251821 0.83905438 0.87005103\n",
            " 0.87768565 0.88058688 0.8804342  0.88465873 0.88471029 0.88236581\n",
            " 0.87640256 0.87497546 0.8815503  0.89882845 0.88654514 0.88221291\n",
            " 0.87181539 0.87854321 0.88318131 0.90173367 0.90361946 0.90550525\n",
            " 0.92247761 0.93063253 0.91707501 0.90927691 0.9065246  0.92487311\n",
            " 0.92370087 0.93149897 0.93440411 0.93741128 0.95152937 0.93970483\n",
            " 0.94220221 0.93628998 0.94551518 0.95203908 0.94724807 0.95764551\n",
            " 0.96350688 0.97650374 0.98746183 0.97619795 0.96738042 0.97538244\n",
            " 0.96442427 0.96391463 0.96656492 0.97074433 0.96936817 0.97787982\n",
            " 0.98527025 0.98399605 0.99413863 0.98909285 0.98557604 0.98516829\n",
            " 0.98690118 0.9988787  0.99199798 0.99908254 1.         0.99388378\n",
            " 0.97619795 0.633214   0.6149258  0.58166713 0.5394671  0.49343845\n",
            " 0.44691417 0.40181038 0.35918936 0.31967911]\n",
            "9 day output [[0.28369287]]\n",
            "10 day input [0.81386009 0.80383325 0.81095892 0.82195282 0.82658452 0.83589879\n",
            " 0.84775795 0.83829097 0.82653351 0.82139288 0.82612644 0.82037496\n",
            " 0.8224618  0.83752748 0.84007234 0.84521307 0.84368613 0.84516207\n",
            " 0.83986879 0.83961429 0.84058134 0.82974013 0.84058134 0.85737757\n",
            " 0.86139843 0.86552112 0.86251821 0.83905438 0.87005103 0.87768565\n",
            " 0.88058688 0.8804342  0.88465873 0.88471029 0.88236581 0.87640256\n",
            " 0.87497546 0.8815503  0.89882845 0.88654514 0.88221291 0.87181539\n",
            " 0.87854321 0.88318131 0.90173367 0.90361946 0.90550525 0.92247761\n",
            " 0.93063253 0.91707501 0.90927691 0.9065246  0.92487311 0.92370087\n",
            " 0.93149897 0.93440411 0.93741128 0.95152937 0.93970483 0.94220221\n",
            " 0.93628998 0.94551518 0.95203908 0.94724807 0.95764551 0.96350688\n",
            " 0.97650374 0.98746183 0.97619795 0.96738042 0.97538244 0.96442427\n",
            " 0.96391463 0.96656492 0.97074433 0.96936817 0.97787982 0.98527025\n",
            " 0.98399605 0.99413863 0.98909285 0.98557604 0.98516829 0.98690118\n",
            " 0.9988787  0.99199798 0.99908254 1.         0.99388378 0.97619795\n",
            " 0.633214   0.6149258  0.58166713 0.5394671  0.49343845 0.44691417\n",
            " 0.40181038 0.35918936 0.31967911 0.28369287]\n",
            "10 day output [[0.25150314]]\n",
            "11 day input [0.80383325 0.81095892 0.82195282 0.82658452 0.83589879 0.84775795\n",
            " 0.83829097 0.82653351 0.82139288 0.82612644 0.82037496 0.8224618\n",
            " 0.83752748 0.84007234 0.84521307 0.84368613 0.84516207 0.83986879\n",
            " 0.83961429 0.84058134 0.82974013 0.84058134 0.85737757 0.86139843\n",
            " 0.86552112 0.86251821 0.83905438 0.87005103 0.87768565 0.88058688\n",
            " 0.8804342  0.88465873 0.88471029 0.88236581 0.87640256 0.87497546\n",
            " 0.8815503  0.89882845 0.88654514 0.88221291 0.87181539 0.87854321\n",
            " 0.88318131 0.90173367 0.90361946 0.90550525 0.92247761 0.93063253\n",
            " 0.91707501 0.90927691 0.9065246  0.92487311 0.92370087 0.93149897\n",
            " 0.93440411 0.93741128 0.95152937 0.93970483 0.94220221 0.93628998\n",
            " 0.94551518 0.95203908 0.94724807 0.95764551 0.96350688 0.97650374\n",
            " 0.98746183 0.97619795 0.96738042 0.97538244 0.96442427 0.96391463\n",
            " 0.96656492 0.97074433 0.96936817 0.97787982 0.98527025 0.98399605\n",
            " 0.99413863 0.98909285 0.98557604 0.98516829 0.98690118 0.9988787\n",
            " 0.99199798 0.99908254 1.         0.99388378 0.97619795 0.633214\n",
            " 0.6149258  0.58166713 0.5394671  0.49343845 0.44691417 0.40181038\n",
            " 0.35918936 0.31967911 0.28369287 0.25150314]\n",
            "11 day output [[0.22324766]]\n",
            "12 day input [0.81095892 0.82195282 0.82658452 0.83589879 0.84775795 0.83829097\n",
            " 0.82653351 0.82139288 0.82612644 0.82037496 0.8224618  0.83752748\n",
            " 0.84007234 0.84521307 0.84368613 0.84516207 0.83986879 0.83961429\n",
            " 0.84058134 0.82974013 0.84058134 0.85737757 0.86139843 0.86552112\n",
            " 0.86251821 0.83905438 0.87005103 0.87768565 0.88058688 0.8804342\n",
            " 0.88465873 0.88471029 0.88236581 0.87640256 0.87497546 0.8815503\n",
            " 0.89882845 0.88654514 0.88221291 0.87181539 0.87854321 0.88318131\n",
            " 0.90173367 0.90361946 0.90550525 0.92247761 0.93063253 0.91707501\n",
            " 0.90927691 0.9065246  0.92487311 0.92370087 0.93149897 0.93440411\n",
            " 0.93741128 0.95152937 0.93970483 0.94220221 0.93628998 0.94551518\n",
            " 0.95203908 0.94724807 0.95764551 0.96350688 0.97650374 0.98746183\n",
            " 0.97619795 0.96738042 0.97538244 0.96442427 0.96391463 0.96656492\n",
            " 0.97074433 0.96936817 0.97787982 0.98527025 0.98399605 0.99413863\n",
            " 0.98909285 0.98557604 0.98516829 0.98690118 0.9988787  0.99199798\n",
            " 0.99908254 1.         0.99388378 0.97619795 0.633214   0.6149258\n",
            " 0.58166713 0.5394671  0.49343845 0.44691417 0.40181038 0.35918936\n",
            " 0.31967911 0.28369287 0.25150314 0.22324766]\n",
            "12 day output [[0.19892341]]\n",
            "13 day input [0.82195282 0.82658452 0.83589879 0.84775795 0.83829097 0.82653351\n",
            " 0.82139288 0.82612644 0.82037496 0.8224618  0.83752748 0.84007234\n",
            " 0.84521307 0.84368613 0.84516207 0.83986879 0.83961429 0.84058134\n",
            " 0.82974013 0.84058134 0.85737757 0.86139843 0.86552112 0.86251821\n",
            " 0.83905438 0.87005103 0.87768565 0.88058688 0.8804342  0.88465873\n",
            " 0.88471029 0.88236581 0.87640256 0.87497546 0.8815503  0.89882845\n",
            " 0.88654514 0.88221291 0.87181539 0.87854321 0.88318131 0.90173367\n",
            " 0.90361946 0.90550525 0.92247761 0.93063253 0.91707501 0.90927691\n",
            " 0.9065246  0.92487311 0.92370087 0.93149897 0.93440411 0.93741128\n",
            " 0.95152937 0.93970483 0.94220221 0.93628998 0.94551518 0.95203908\n",
            " 0.94724807 0.95764551 0.96350688 0.97650374 0.98746183 0.97619795\n",
            " 0.96738042 0.97538244 0.96442427 0.96391463 0.96656492 0.97074433\n",
            " 0.96936817 0.97787982 0.98527025 0.98399605 0.99413863 0.98909285\n",
            " 0.98557604 0.98516829 0.98690118 0.9988787  0.99199798 0.99908254\n",
            " 1.         0.99388378 0.97619795 0.633214   0.6149258  0.58166713\n",
            " 0.5394671  0.49343845 0.44691417 0.40181038 0.35918936 0.31967911\n",
            " 0.28369287 0.25150314 0.22324766 0.19892341]\n",
            "13 day output [[0.17839646]]\n",
            "14 day input [0.82658452 0.83589879 0.84775795 0.83829097 0.82653351 0.82139288\n",
            " 0.82612644 0.82037496 0.8224618  0.83752748 0.84007234 0.84521307\n",
            " 0.84368613 0.84516207 0.83986879 0.83961429 0.84058134 0.82974013\n",
            " 0.84058134 0.85737757 0.86139843 0.86552112 0.86251821 0.83905438\n",
            " 0.87005103 0.87768565 0.88058688 0.8804342  0.88465873 0.88471029\n",
            " 0.88236581 0.87640256 0.87497546 0.8815503  0.89882845 0.88654514\n",
            " 0.88221291 0.87181539 0.87854321 0.88318131 0.90173367 0.90361946\n",
            " 0.90550525 0.92247761 0.93063253 0.91707501 0.90927691 0.9065246\n",
            " 0.92487311 0.92370087 0.93149897 0.93440411 0.93741128 0.95152937\n",
            " 0.93970483 0.94220221 0.93628998 0.94551518 0.95203908 0.94724807\n",
            " 0.95764551 0.96350688 0.97650374 0.98746183 0.97619795 0.96738042\n",
            " 0.97538244 0.96442427 0.96391463 0.96656492 0.97074433 0.96936817\n",
            " 0.97787982 0.98527025 0.98399605 0.99413863 0.98909285 0.98557604\n",
            " 0.98516829 0.98690118 0.9988787  0.99199798 0.99908254 1.\n",
            " 0.99388378 0.97619795 0.633214   0.6149258  0.58166713 0.5394671\n",
            " 0.49343845 0.44691417 0.40181038 0.35918936 0.31967911 0.28369287\n",
            " 0.25150314 0.22324766 0.19892341 0.17839646]\n",
            "14 day output [[0.16142564]]\n",
            "15 day input [0.83589879 0.84775795 0.83829097 0.82653351 0.82139288 0.82612644\n",
            " 0.82037496 0.8224618  0.83752748 0.84007234 0.84521307 0.84368613\n",
            " 0.84516207 0.83986879 0.83961429 0.84058134 0.82974013 0.84058134\n",
            " 0.85737757 0.86139843 0.86552112 0.86251821 0.83905438 0.87005103\n",
            " 0.87768565 0.88058688 0.8804342  0.88465873 0.88471029 0.88236581\n",
            " 0.87640256 0.87497546 0.8815503  0.89882845 0.88654514 0.88221291\n",
            " 0.87181539 0.87854321 0.88318131 0.90173367 0.90361946 0.90550525\n",
            " 0.92247761 0.93063253 0.91707501 0.90927691 0.9065246  0.92487311\n",
            " 0.92370087 0.93149897 0.93440411 0.93741128 0.95152937 0.93970483\n",
            " 0.94220221 0.93628998 0.94551518 0.95203908 0.94724807 0.95764551\n",
            " 0.96350688 0.97650374 0.98746183 0.97619795 0.96738042 0.97538244\n",
            " 0.96442427 0.96391463 0.96656492 0.97074433 0.96936817 0.97787982\n",
            " 0.98527025 0.98399605 0.99413863 0.98909285 0.98557604 0.98516829\n",
            " 0.98690118 0.9988787  0.99199798 0.99908254 1.         0.99388378\n",
            " 0.97619795 0.633214   0.6149258  0.58166713 0.5394671  0.49343845\n",
            " 0.44691417 0.40181038 0.35918936 0.31967911 0.28369287 0.25150314\n",
            " 0.22324766 0.19892341 0.17839646 0.16142564]\n",
            "15 day output [[0.14769356]]\n",
            "16 day input [0.84775795 0.83829097 0.82653351 0.82139288 0.82612644 0.82037496\n",
            " 0.8224618  0.83752748 0.84007234 0.84521307 0.84368613 0.84516207\n",
            " 0.83986879 0.83961429 0.84058134 0.82974013 0.84058134 0.85737757\n",
            " 0.86139843 0.86552112 0.86251821 0.83905438 0.87005103 0.87768565\n",
            " 0.88058688 0.8804342  0.88465873 0.88471029 0.88236581 0.87640256\n",
            " 0.87497546 0.8815503  0.89882845 0.88654514 0.88221291 0.87181539\n",
            " 0.87854321 0.88318131 0.90173367 0.90361946 0.90550525 0.92247761\n",
            " 0.93063253 0.91707501 0.90927691 0.9065246  0.92487311 0.92370087\n",
            " 0.93149897 0.93440411 0.93741128 0.95152937 0.93970483 0.94220221\n",
            " 0.93628998 0.94551518 0.95203908 0.94724807 0.95764551 0.96350688\n",
            " 0.97650374 0.98746183 0.97619795 0.96738042 0.97538244 0.96442427\n",
            " 0.96391463 0.96656492 0.97074433 0.96936817 0.97787982 0.98527025\n",
            " 0.98399605 0.99413863 0.98909285 0.98557604 0.98516829 0.98690118\n",
            " 0.9988787  0.99199798 0.99908254 1.         0.99388378 0.97619795\n",
            " 0.633214   0.6149258  0.58166713 0.5394671  0.49343845 0.44691417\n",
            " 0.40181038 0.35918936 0.31967911 0.28369287 0.25150314 0.22324766\n",
            " 0.19892341 0.17839646 0.16142564 0.14769356]\n",
            "16 day output [[0.13683432]]\n",
            "17 day input [0.83829097 0.82653351 0.82139288 0.82612644 0.82037496 0.8224618\n",
            " 0.83752748 0.84007234 0.84521307 0.84368613 0.84516207 0.83986879\n",
            " 0.83961429 0.84058134 0.82974013 0.84058134 0.85737757 0.86139843\n",
            " 0.86552112 0.86251821 0.83905438 0.87005103 0.87768565 0.88058688\n",
            " 0.8804342  0.88465873 0.88471029 0.88236581 0.87640256 0.87497546\n",
            " 0.8815503  0.89882845 0.88654514 0.88221291 0.87181539 0.87854321\n",
            " 0.88318131 0.90173367 0.90361946 0.90550525 0.92247761 0.93063253\n",
            " 0.91707501 0.90927691 0.9065246  0.92487311 0.92370087 0.93149897\n",
            " 0.93440411 0.93741128 0.95152937 0.93970483 0.94220221 0.93628998\n",
            " 0.94551518 0.95203908 0.94724807 0.95764551 0.96350688 0.97650374\n",
            " 0.98746183 0.97619795 0.96738042 0.97538244 0.96442427 0.96391463\n",
            " 0.96656492 0.97074433 0.96936817 0.97787982 0.98527025 0.98399605\n",
            " 0.99413863 0.98909285 0.98557604 0.98516829 0.98690118 0.9988787\n",
            " 0.99199798 0.99908254 1.         0.99388378 0.97619795 0.633214\n",
            " 0.6149258  0.58166713 0.5394671  0.49343845 0.44691417 0.40181038\n",
            " 0.35918936 0.31967911 0.28369287 0.25150314 0.22324766 0.19892341\n",
            " 0.17839646 0.16142564 0.14769356 0.13683432]\n",
            "17 day output [[0.12845722]]\n",
            "18 day input [0.82653351 0.82139288 0.82612644 0.82037496 0.8224618  0.83752748\n",
            " 0.84007234 0.84521307 0.84368613 0.84516207 0.83986879 0.83961429\n",
            " 0.84058134 0.82974013 0.84058134 0.85737757 0.86139843 0.86552112\n",
            " 0.86251821 0.83905438 0.87005103 0.87768565 0.88058688 0.8804342\n",
            " 0.88465873 0.88471029 0.88236581 0.87640256 0.87497546 0.8815503\n",
            " 0.89882845 0.88654514 0.88221291 0.87181539 0.87854321 0.88318131\n",
            " 0.90173367 0.90361946 0.90550525 0.92247761 0.93063253 0.91707501\n",
            " 0.90927691 0.9065246  0.92487311 0.92370087 0.93149897 0.93440411\n",
            " 0.93741128 0.95152937 0.93970483 0.94220221 0.93628998 0.94551518\n",
            " 0.95203908 0.94724807 0.95764551 0.96350688 0.97650374 0.98746183\n",
            " 0.97619795 0.96738042 0.97538244 0.96442427 0.96391463 0.96656492\n",
            " 0.97074433 0.96936817 0.97787982 0.98527025 0.98399605 0.99413863\n",
            " 0.98909285 0.98557604 0.98516829 0.98690118 0.9988787  0.99199798\n",
            " 0.99908254 1.         0.99388378 0.97619795 0.633214   0.6149258\n",
            " 0.58166713 0.5394671  0.49343845 0.44691417 0.40181038 0.35918936\n",
            " 0.31967911 0.28369287 0.25150314 0.22324766 0.19892341 0.17839646\n",
            " 0.16142564 0.14769356 0.13683432 0.12845722]\n",
            "18 day output [[0.12216484]]\n",
            "19 day input [0.82139288 0.82612644 0.82037496 0.8224618  0.83752748 0.84007234\n",
            " 0.84521307 0.84368613 0.84516207 0.83986879 0.83961429 0.84058134\n",
            " 0.82974013 0.84058134 0.85737757 0.86139843 0.86552112 0.86251821\n",
            " 0.83905438 0.87005103 0.87768565 0.88058688 0.8804342  0.88465873\n",
            " 0.88471029 0.88236581 0.87640256 0.87497546 0.8815503  0.89882845\n",
            " 0.88654514 0.88221291 0.87181539 0.87854321 0.88318131 0.90173367\n",
            " 0.90361946 0.90550525 0.92247761 0.93063253 0.91707501 0.90927691\n",
            " 0.9065246  0.92487311 0.92370087 0.93149897 0.93440411 0.93741128\n",
            " 0.95152937 0.93970483 0.94220221 0.93628998 0.94551518 0.95203908\n",
            " 0.94724807 0.95764551 0.96350688 0.97650374 0.98746183 0.97619795\n",
            " 0.96738042 0.97538244 0.96442427 0.96391463 0.96656492 0.97074433\n",
            " 0.96936817 0.97787982 0.98527025 0.98399605 0.99413863 0.98909285\n",
            " 0.98557604 0.98516829 0.98690118 0.9988787  0.99199798 0.99908254\n",
            " 1.         0.99388378 0.97619795 0.633214   0.6149258  0.58166713\n",
            " 0.5394671  0.49343845 0.44691417 0.40181038 0.35918936 0.31967911\n",
            " 0.28369287 0.25150314 0.22324766 0.19892341 0.17839646 0.16142564\n",
            " 0.14769356 0.13683432 0.12845722 0.12216484]\n",
            "19 day output [[0.11756817]]\n",
            "20 day input [0.82612644 0.82037496 0.8224618  0.83752748 0.84007234 0.84521307\n",
            " 0.84368613 0.84516207 0.83986879 0.83961429 0.84058134 0.82974013\n",
            " 0.84058134 0.85737757 0.86139843 0.86552112 0.86251821 0.83905438\n",
            " 0.87005103 0.87768565 0.88058688 0.8804342  0.88465873 0.88471029\n",
            " 0.88236581 0.87640256 0.87497546 0.8815503  0.89882845 0.88654514\n",
            " 0.88221291 0.87181539 0.87854321 0.88318131 0.90173367 0.90361946\n",
            " 0.90550525 0.92247761 0.93063253 0.91707501 0.90927691 0.9065246\n",
            " 0.92487311 0.92370087 0.93149897 0.93440411 0.93741128 0.95152937\n",
            " 0.93970483 0.94220221 0.93628998 0.94551518 0.95203908 0.94724807\n",
            " 0.95764551 0.96350688 0.97650374 0.98746183 0.97619795 0.96738042\n",
            " 0.97538244 0.96442427 0.96391463 0.96656492 0.97074433 0.96936817\n",
            " 0.97787982 0.98527025 0.98399605 0.99413863 0.98909285 0.98557604\n",
            " 0.98516829 0.98690118 0.9988787  0.99199798 0.99908254 1.\n",
            " 0.99388378 0.97619795 0.633214   0.6149258  0.58166713 0.5394671\n",
            " 0.49343845 0.44691417 0.40181038 0.35918936 0.31967911 0.28369287\n",
            " 0.25150314 0.22324766 0.19892341 0.17839646 0.16142564 0.14769356\n",
            " 0.13683432 0.12845722 0.12216484 0.11756817]\n",
            "20 day output [[0.11429902]]\n",
            "21 day input [0.82037496 0.8224618  0.83752748 0.84007234 0.84521307 0.84368613\n",
            " 0.84516207 0.83986879 0.83961429 0.84058134 0.82974013 0.84058134\n",
            " 0.85737757 0.86139843 0.86552112 0.86251821 0.83905438 0.87005103\n",
            " 0.87768565 0.88058688 0.8804342  0.88465873 0.88471029 0.88236581\n",
            " 0.87640256 0.87497546 0.8815503  0.89882845 0.88654514 0.88221291\n",
            " 0.87181539 0.87854321 0.88318131 0.90173367 0.90361946 0.90550525\n",
            " 0.92247761 0.93063253 0.91707501 0.90927691 0.9065246  0.92487311\n",
            " 0.92370087 0.93149897 0.93440411 0.93741128 0.95152937 0.93970483\n",
            " 0.94220221 0.93628998 0.94551518 0.95203908 0.94724807 0.95764551\n",
            " 0.96350688 0.97650374 0.98746183 0.97619795 0.96738042 0.97538244\n",
            " 0.96442427 0.96391463 0.96656492 0.97074433 0.96936817 0.97787982\n",
            " 0.98527025 0.98399605 0.99413863 0.98909285 0.98557604 0.98516829\n",
            " 0.98690118 0.9988787  0.99199798 0.99908254 1.         0.99388378\n",
            " 0.97619795 0.633214   0.6149258  0.58166713 0.5394671  0.49343845\n",
            " 0.44691417 0.40181038 0.35918936 0.31967911 0.28369287 0.25150314\n",
            " 0.22324766 0.19892341 0.17839646 0.16142564 0.14769356 0.13683432\n",
            " 0.12845722 0.12216484 0.11756817 0.11429902]\n",
            "21 day output [[0.11202035]]\n",
            "22 day input [0.8224618  0.83752748 0.84007234 0.84521307 0.84368613 0.84516207\n",
            " 0.83986879 0.83961429 0.84058134 0.82974013 0.84058134 0.85737757\n",
            " 0.86139843 0.86552112 0.86251821 0.83905438 0.87005103 0.87768565\n",
            " 0.88058688 0.8804342  0.88465873 0.88471029 0.88236581 0.87640256\n",
            " 0.87497546 0.8815503  0.89882845 0.88654514 0.88221291 0.87181539\n",
            " 0.87854321 0.88318131 0.90173367 0.90361946 0.90550525 0.92247761\n",
            " 0.93063253 0.91707501 0.90927691 0.9065246  0.92487311 0.92370087\n",
            " 0.93149897 0.93440411 0.93741128 0.95152937 0.93970483 0.94220221\n",
            " 0.93628998 0.94551518 0.95203908 0.94724807 0.95764551 0.96350688\n",
            " 0.97650374 0.98746183 0.97619795 0.96738042 0.97538244 0.96442427\n",
            " 0.96391463 0.96656492 0.97074433 0.96936817 0.97787982 0.98527025\n",
            " 0.98399605 0.99413863 0.98909285 0.98557604 0.98516829 0.98690118\n",
            " 0.9988787  0.99199798 0.99908254 1.         0.99388378 0.97619795\n",
            " 0.633214   0.6149258  0.58166713 0.5394671  0.49343845 0.44691417\n",
            " 0.40181038 0.35918936 0.31967911 0.28369287 0.25150314 0.22324766\n",
            " 0.19892341 0.17839646 0.16142564 0.14769356 0.13683432 0.12845722\n",
            " 0.12216484 0.11756817 0.11429902 0.11202035]\n",
            "22 day output [[0.11043406]]\n",
            "23 day input [0.83752748 0.84007234 0.84521307 0.84368613 0.84516207 0.83986879\n",
            " 0.83961429 0.84058134 0.82974013 0.84058134 0.85737757 0.86139843\n",
            " 0.86552112 0.86251821 0.83905438 0.87005103 0.87768565 0.88058688\n",
            " 0.8804342  0.88465873 0.88471029 0.88236581 0.87640256 0.87497546\n",
            " 0.8815503  0.89882845 0.88654514 0.88221291 0.87181539 0.87854321\n",
            " 0.88318131 0.90173367 0.90361946 0.90550525 0.92247761 0.93063253\n",
            " 0.91707501 0.90927691 0.9065246  0.92487311 0.92370087 0.93149897\n",
            " 0.93440411 0.93741128 0.95152937 0.93970483 0.94220221 0.93628998\n",
            " 0.94551518 0.95203908 0.94724807 0.95764551 0.96350688 0.97650374\n",
            " 0.98746183 0.97619795 0.96738042 0.97538244 0.96442427 0.96391463\n",
            " 0.96656492 0.97074433 0.96936817 0.97787982 0.98527025 0.98399605\n",
            " 0.99413863 0.98909285 0.98557604 0.98516829 0.98690118 0.9988787\n",
            " 0.99199798 0.99908254 1.         0.99388378 0.97619795 0.633214\n",
            " 0.6149258  0.58166713 0.5394671  0.49343845 0.44691417 0.40181038\n",
            " 0.35918936 0.31967911 0.28369287 0.25150314 0.22324766 0.19892341\n",
            " 0.17839646 0.16142564 0.14769356 0.13683432 0.12845722 0.12216484\n",
            " 0.11756817 0.11429902 0.11202035 0.11043406]\n",
            "23 day output [[0.10928614]]\n",
            "24 day input [0.84007234 0.84521307 0.84368613 0.84516207 0.83986879 0.83961429\n",
            " 0.84058134 0.82974013 0.84058134 0.85737757 0.86139843 0.86552112\n",
            " 0.86251821 0.83905438 0.87005103 0.87768565 0.88058688 0.8804342\n",
            " 0.88465873 0.88471029 0.88236581 0.87640256 0.87497546 0.8815503\n",
            " 0.89882845 0.88654514 0.88221291 0.87181539 0.87854321 0.88318131\n",
            " 0.90173367 0.90361946 0.90550525 0.92247761 0.93063253 0.91707501\n",
            " 0.90927691 0.9065246  0.92487311 0.92370087 0.93149897 0.93440411\n",
            " 0.93741128 0.95152937 0.93970483 0.94220221 0.93628998 0.94551518\n",
            " 0.95203908 0.94724807 0.95764551 0.96350688 0.97650374 0.98746183\n",
            " 0.97619795 0.96738042 0.97538244 0.96442427 0.96391463 0.96656492\n",
            " 0.97074433 0.96936817 0.97787982 0.98527025 0.98399605 0.99413863\n",
            " 0.98909285 0.98557604 0.98516829 0.98690118 0.9988787  0.99199798\n",
            " 0.99908254 1.         0.99388378 0.97619795 0.633214   0.6149258\n",
            " 0.58166713 0.5394671  0.49343845 0.44691417 0.40181038 0.35918936\n",
            " 0.31967911 0.28369287 0.25150314 0.22324766 0.19892341 0.17839646\n",
            " 0.16142564 0.14769356 0.13683432 0.12845722 0.12216484 0.11756817\n",
            " 0.11429902 0.11202035 0.11043406 0.10928614]\n",
            "24 day output [[0.10836911]]\n",
            "25 day input [0.84521307 0.84368613 0.84516207 0.83986879 0.83961429 0.84058134\n",
            " 0.82974013 0.84058134 0.85737757 0.86139843 0.86552112 0.86251821\n",
            " 0.83905438 0.87005103 0.87768565 0.88058688 0.8804342  0.88465873\n",
            " 0.88471029 0.88236581 0.87640256 0.87497546 0.8815503  0.89882845\n",
            " 0.88654514 0.88221291 0.87181539 0.87854321 0.88318131 0.90173367\n",
            " 0.90361946 0.90550525 0.92247761 0.93063253 0.91707501 0.90927691\n",
            " 0.9065246  0.92487311 0.92370087 0.93149897 0.93440411 0.93741128\n",
            " 0.95152937 0.93970483 0.94220221 0.93628998 0.94551518 0.95203908\n",
            " 0.94724807 0.95764551 0.96350688 0.97650374 0.98746183 0.97619795\n",
            " 0.96738042 0.97538244 0.96442427 0.96391463 0.96656492 0.97074433\n",
            " 0.96936817 0.97787982 0.98527025 0.98399605 0.99413863 0.98909285\n",
            " 0.98557604 0.98516829 0.98690118 0.9988787  0.99199798 0.99908254\n",
            " 1.         0.99388378 0.97619795 0.633214   0.6149258  0.58166713\n",
            " 0.5394671  0.49343845 0.44691417 0.40181038 0.35918936 0.31967911\n",
            " 0.28369287 0.25150314 0.22324766 0.19892341 0.17839646 0.16142564\n",
            " 0.14769356 0.13683432 0.12845722 0.12216484 0.11756817 0.11429902\n",
            " 0.11202035 0.11043406 0.10928614 0.10836911]\n",
            "25 day output [[0.1075215]]\n",
            "26 day input [0.84368613 0.84516207 0.83986879 0.83961429 0.84058134 0.82974013\n",
            " 0.84058134 0.85737757 0.86139843 0.86552112 0.86251821 0.83905438\n",
            " 0.87005103 0.87768565 0.88058688 0.8804342  0.88465873 0.88471029\n",
            " 0.88236581 0.87640256 0.87497546 0.8815503  0.89882845 0.88654514\n",
            " 0.88221291 0.87181539 0.87854321 0.88318131 0.90173367 0.90361946\n",
            " 0.90550525 0.92247761 0.93063253 0.91707501 0.90927691 0.9065246\n",
            " 0.92487311 0.92370087 0.93149897 0.93440411 0.93741128 0.95152937\n",
            " 0.93970483 0.94220221 0.93628998 0.94551518 0.95203908 0.94724807\n",
            " 0.95764551 0.96350688 0.97650374 0.98746183 0.97619795 0.96738042\n",
            " 0.97538244 0.96442427 0.96391463 0.96656492 0.97074433 0.96936817\n",
            " 0.97787982 0.98527025 0.98399605 0.99413863 0.98909285 0.98557604\n",
            " 0.98516829 0.98690118 0.9988787  0.99199798 0.99908254 1.\n",
            " 0.99388378 0.97619795 0.633214   0.6149258  0.58166713 0.5394671\n",
            " 0.49343845 0.44691417 0.40181038 0.35918936 0.31967911 0.28369287\n",
            " 0.25150314 0.22324766 0.19892341 0.17839646 0.16142564 0.14769356\n",
            " 0.13683432 0.12845722 0.12216484 0.11756817 0.11429902 0.11202035\n",
            " 0.11043406 0.10928614 0.10836911 0.1075215 ]\n",
            "26 day output [[0.10662538]]\n",
            "27 day input [0.84516207 0.83986879 0.83961429 0.84058134 0.82974013 0.84058134\n",
            " 0.85737757 0.86139843 0.86552112 0.86251821 0.83905438 0.87005103\n",
            " 0.87768565 0.88058688 0.8804342  0.88465873 0.88471029 0.88236581\n",
            " 0.87640256 0.87497546 0.8815503  0.89882845 0.88654514 0.88221291\n",
            " 0.87181539 0.87854321 0.88318131 0.90173367 0.90361946 0.90550525\n",
            " 0.92247761 0.93063253 0.91707501 0.90927691 0.9065246  0.92487311\n",
            " 0.92370087 0.93149897 0.93440411 0.93741128 0.95152937 0.93970483\n",
            " 0.94220221 0.93628998 0.94551518 0.95203908 0.94724807 0.95764551\n",
            " 0.96350688 0.97650374 0.98746183 0.97619795 0.96738042 0.97538244\n",
            " 0.96442427 0.96391463 0.96656492 0.97074433 0.96936817 0.97787982\n",
            " 0.98527025 0.98399605 0.99413863 0.98909285 0.98557604 0.98516829\n",
            " 0.98690118 0.9988787  0.99199798 0.99908254 1.         0.99388378\n",
            " 0.97619795 0.633214   0.6149258  0.58166713 0.5394671  0.49343845\n",
            " 0.44691417 0.40181038 0.35918936 0.31967911 0.28369287 0.25150314\n",
            " 0.22324766 0.19892341 0.17839646 0.16142564 0.14769356 0.13683432\n",
            " 0.12845722 0.12216484 0.11756817 0.11429902 0.11202035 0.11043406\n",
            " 0.10928614 0.10836911 0.1075215  0.10662538]\n",
            "27 day output [[0.10560174]]\n",
            "28 day input [0.83986879 0.83961429 0.84058134 0.82974013 0.84058134 0.85737757\n",
            " 0.86139843 0.86552112 0.86251821 0.83905438 0.87005103 0.87768565\n",
            " 0.88058688 0.8804342  0.88465873 0.88471029 0.88236581 0.87640256\n",
            " 0.87497546 0.8815503  0.89882845 0.88654514 0.88221291 0.87181539\n",
            " 0.87854321 0.88318131 0.90173367 0.90361946 0.90550525 0.92247761\n",
            " 0.93063253 0.91707501 0.90927691 0.9065246  0.92487311 0.92370087\n",
            " 0.93149897 0.93440411 0.93741128 0.95152937 0.93970483 0.94220221\n",
            " 0.93628998 0.94551518 0.95203908 0.94724807 0.95764551 0.96350688\n",
            " 0.97650374 0.98746183 0.97619795 0.96738042 0.97538244 0.96442427\n",
            " 0.96391463 0.96656492 0.97074433 0.96936817 0.97787982 0.98527025\n",
            " 0.98399605 0.99413863 0.98909285 0.98557604 0.98516829 0.98690118\n",
            " 0.9988787  0.99199798 0.99908254 1.         0.99388378 0.97619795\n",
            " 0.633214   0.6149258  0.58166713 0.5394671  0.49343845 0.44691417\n",
            " 0.40181038 0.35918936 0.31967911 0.28369287 0.25150314 0.22324766\n",
            " 0.19892341 0.17839646 0.16142564 0.14769356 0.13683432 0.12845722\n",
            " 0.12216484 0.11756817 0.11429902 0.11202035 0.11043406 0.10928614\n",
            " 0.10836911 0.1075215  0.10662538 0.10560174]\n",
            "28 day output [[0.10440522]]\n",
            "29 day input [0.83961429 0.84058134 0.82974013 0.84058134 0.85737757 0.86139843\n",
            " 0.86552112 0.86251821 0.83905438 0.87005103 0.87768565 0.88058688\n",
            " 0.8804342  0.88465873 0.88471029 0.88236581 0.87640256 0.87497546\n",
            " 0.8815503  0.89882845 0.88654514 0.88221291 0.87181539 0.87854321\n",
            " 0.88318131 0.90173367 0.90361946 0.90550525 0.92247761 0.93063253\n",
            " 0.91707501 0.90927691 0.9065246  0.92487311 0.92370087 0.93149897\n",
            " 0.93440411 0.93741128 0.95152937 0.93970483 0.94220221 0.93628998\n",
            " 0.94551518 0.95203908 0.94724807 0.95764551 0.96350688 0.97650374\n",
            " 0.98746183 0.97619795 0.96738042 0.97538244 0.96442427 0.96391463\n",
            " 0.96656492 0.97074433 0.96936817 0.97787982 0.98527025 0.98399605\n",
            " 0.99413863 0.98909285 0.98557604 0.98516829 0.98690118 0.9988787\n",
            " 0.99199798 0.99908254 1.         0.99388378 0.97619795 0.633214\n",
            " 0.6149258  0.58166713 0.5394671  0.49343845 0.44691417 0.40181038\n",
            " 0.35918936 0.31967911 0.28369287 0.25150314 0.22324766 0.19892341\n",
            " 0.17839646 0.16142564 0.14769356 0.13683432 0.12845722 0.12216484\n",
            " 0.11756817 0.11429902 0.11202035 0.11043406 0.10928614 0.10836911\n",
            " 0.1075215  0.10662538 0.10560174 0.10440522]\n",
            "29 day output [[0.10301807]]\n",
            "[[0.633213996887207], [0.6149258017539978], [0.5816671252250671], [0.5394670963287354], [0.4934384524822235], [0.4469141662120819], [0.4018103778362274], [0.35918936133384705], [0.3196791112422943], [0.283692866563797], [0.2515031397342682], [0.22324766218662262], [0.19892340898513794], [0.17839646339416504], [0.1614256352186203], [0.14769355952739716], [0.13683432340621948], [0.1284572184085846], [0.12216483801603317], [0.11756816506385803], [0.11429902166128159], [0.1120203509926796], [0.11043406277894974], [0.10928614437580109], [0.10836911201477051], [0.10752150416374207], [0.10662537813186646], [0.1056017354130745], [0.1044052243232727], [0.10301806777715683]]\n"
          ]
        }
      ]
    },
    {
      "cell_type": "code",
      "source": [
        "day_new=np.arange(1,101)\n",
        "day_pred=np.arange(101,131)"
      ],
      "metadata": {
        "id": "IE4J17HdgDEi"
      },
      "execution_count": 51,
      "outputs": []
    },
    {
      "cell_type": "code",
      "source": [
        "import matplotlib.pyplot as plt"
      ],
      "metadata": {
        "id": "0HNhHDfsgDBz"
      },
      "execution_count": 52,
      "outputs": []
    },
    {
      "cell_type": "code",
      "source": [
        "len(df2)"
      ],
      "metadata": {
        "id": "xTiGyVHqhwGQ",
        "outputId": "db4a817b-d592-437f-f77b-1688125033fc",
        "colab": {
          "base_uri": "https://localhost:8080/"
        }
      },
      "execution_count": 53,
      "outputs": [
        {
          "output_type": "execute_result",
          "data": {
            "text/plain": [
              "10750"
            ]
          },
          "metadata": {},
          "execution_count": 53
        }
      ]
    },
    {
      "cell_type": "code",
      "source": [
        "plt.plot(day_new,scaler.inverse_transform(df2[10650:]))\n",
        "plt.plot(day_pred,scaler.inverse_transform(lst_output))"
      ],
      "metadata": {
        "id": "j0cWLncKiEz_",
        "outputId": "f82fb49b-507b-45e6-ee46-9b9fc4d8d07a",
        "colab": {
          "base_uri": "https://localhost:8080/",
          "height": 447
        }
      },
      "execution_count": 55,
      "outputs": [
        {
          "output_type": "execute_result",
          "data": {
            "text/plain": [
              "[<matplotlib.lines.Line2D at 0x7ea455921750>]"
            ]
          },
          "metadata": {},
          "execution_count": 55
        },
        {
          "output_type": "display_data",
          "data": {
            "text/plain": [
              "<Figure size 640x480 with 1 Axes>"
            ],
            "image/png": "[encoded data removed]"
          },
          "metadata": {}
        }
      ]
    },
    {
      "cell_type": "code",
      "source": [],
      "metadata": {
        "id": "ej2qNtIViw7t"
      },
      "execution_count": null,
      "outputs": []
    },
    {
      "cell_type": "code",
      "source": [
        "df3=df2.tolist()\n",
        "df3.extend(lst_output)\n",
        "plt.plot(df3[6750:])"
      ],
      "metadata": {
        "id": "_m3L8wsciRuE",
        "outputId": "53c543aa-b072-425c-f23b-3b7f3e275f4d",
        "colab": {
          "base_uri": "https://localhost:8080/",
          "height": 447
        }
      },
      "execution_count": 59,
      "outputs": [
        {
          "output_type": "execute_result",
          "data": {
            "text/plain": [
              "[<matplotlib.lines.Line2D at 0x7ea4550d4ac0>]"
            ]
          },
          "metadata": {},
          "execution_count": 59
        },
        {
          "output_type": "display_data",
          "data": {
            "text/plain": [
              "<Figure size 640x480 with 1 Axes>"
            ],
            "image/png": "[encoded data removed]"
          },
          "metadata": {}
        }
      ]
    },
    {
      "cell_type": "code",
      "source": [
        "len(df3)"
      ],
      "metadata": {
        "id": "T3WMrpcoij0l",
        "outputId": "8607d851-a446-4694-d18b-39db7de315aa",
        "colab": {
          "base_uri": "https://localhost:8080/"
        }
      },
      "execution_count": 58,
      "outputs": [
        {
          "output_type": "execute_result",
          "data": {
            "text/plain": [
              "10780"
            ]
          },
          "metadata": {},
          "execution_count": 58
        }
      ]
    },
    {
      "cell_type": "code",
      "source": [],
      "metadata": {
        "id": "ensIirfwiy7q"
      },
      "execution_count": null,
      "outputs": []
    }
  ],
  "metadata": {
    "kernelspec": {
      "display_name": "Python 3",
      "language": "python",
      "name": "python3"
    },
    "language_info": {
      "codemirror_mode": {
        "name": "ipython",
        "version": 3
      },
      "file_extension": ".py",
      "mimetype": "text/x-python",
      "name": "python",
      "nbconvert_exporter": "python",
      "pygments_lexer": "ipython3",
      "version": "3.10.11"
    },
    "colab": {
      "provenance": []
    }
  },
  "nbformat": 4,
  "nbformat_minor": 0
}